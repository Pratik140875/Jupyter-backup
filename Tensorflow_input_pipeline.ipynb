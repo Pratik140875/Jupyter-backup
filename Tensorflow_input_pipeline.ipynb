{
 "cells": [
  {
   "cell_type": "code",
   "execution_count": 1,
   "metadata": {},
   "outputs": [],
   "source": [
    "import tensorflow as tf"
   ]
  },
  {
   "cell_type": "code",
   "execution_count": 3,
   "metadata": {},
   "outputs": [],
   "source": [
    "daily_sales_num = [21,22,-108,31,-1,32,34,31]"
   ]
  },
  {
   "cell_type": "code",
   "execution_count": 4,
   "metadata": {},
   "outputs": [
    {
     "data": {
      "text/plain": [
       "<TensorSliceDataset shapes: (), types: tf.int32>"
      ]
     },
     "execution_count": 4,
     "metadata": {},
     "output_type": "execute_result"
    }
   ],
   "source": [
    "#Create TF dataset\n",
    "tf_dataset = tf.data.Dataset.from_tensor_slices(daily_sales_num)\n",
    "tf_dataset"
   ]
  },
  {
   "cell_type": "code",
   "execution_count": 8,
   "metadata": {},
   "outputs": [
    {
     "name": "stdout",
     "output_type": "stream",
     "text": [
      "21\n",
      "22\n",
      "-108\n",
      "31\n",
      "-1\n",
      "32\n",
      "34\n",
      "31\n"
     ]
    }
   ],
   "source": [
    "#Iterate through tf dataset\n",
    "for sales in tf_dataset:\n",
    "    print(sales.numpy())"
   ]
  },
  {
   "cell_type": "code",
   "execution_count": 10,
   "metadata": {},
   "outputs": [
    {
     "name": "stdout",
     "output_type": "stream",
     "text": [
      "21\n",
      "22\n",
      "-108\n",
      "31\n",
      "-1\n",
      "32\n",
      "34\n",
      "31\n"
     ]
    }
   ],
   "source": [
    "#Iterate through element as numpy elements\n",
    "for sales in tf_dataset.as_numpy_iterator():\n",
    "    print(sales)"
   ]
  },
  {
   "cell_type": "code",
   "execution_count": 13,
   "metadata": {},
   "outputs": [
    {
     "name": "stdout",
     "output_type": "stream",
     "text": [
      "21\n",
      "22\n",
      "-108\n"
     ]
    }
   ],
   "source": [
    "#Iterate through first n elements in tf dataset\n",
    "for sales in tf_dataset.take(3):\n",
    "    print(sales.numpy())"
   ]
  },
  {
   "cell_type": "code",
   "execution_count": 15,
   "metadata": {},
   "outputs": [
    {
     "name": "stdout",
     "output_type": "stream",
     "text": [
      "21\n",
      "22\n",
      "31\n",
      "32\n",
      "34\n",
      "31\n"
     ]
    }
   ],
   "source": [
    "#Filter sales size <0\n",
    "tf_dataset = tf_dataset.filter(lambda x: x>0)\n",
    "for sales in tf_dataset:\n",
    "    print(sales.numpy())"
   ]
  },
  {
   "cell_type": "code",
   "execution_count": 17,
   "metadata": {},
   "outputs": [
    {
     "name": "stdout",
     "output_type": "stream",
     "text": [
      "1512\n",
      "1584\n",
      "2232\n",
      "2304\n",
      "2448\n",
      "2232\n"
     ]
    }
   ],
   "source": [
    "#Convert sales numbers from USA Dollars ($) to Indian Rupees Assuming 1->72 conversion rate\n",
    "tf_dataset = tf_dataset.map(lambda x: x*72)\n",
    "for sales in tf_dataset:\n",
    "    print(sales.numpy())"
   ]
  },
  {
   "cell_type": "code",
   "execution_count": 19,
   "metadata": {},
   "outputs": [
    {
     "name": "stdout",
     "output_type": "stream",
     "text": [
      "1584\n",
      "2304\n",
      "2448\n",
      "1512\n",
      "2232\n",
      "2232\n"
     ]
    }
   ],
   "source": [
    "#Shuffle\n",
    "tf_dataset = tf_dataset.shuffle(2)\n",
    "for sales in tf_dataset:\n",
    "    print(sales.numpy())"
   ]
  },
  {
   "cell_type": "code",
   "execution_count": 21,
   "metadata": {},
   "outputs": [
    {
     "name": "stdout",
     "output_type": "stream",
     "text": [
      "[1584 1512]\n",
      "[2304 2448]\n",
      "[2232 2232]\n"
     ]
    }
   ],
   "source": [
    "#Batching\n",
    "for sales_batch in tf_dataset.batch(2):\n",
    "    print(sales_batch.numpy())"
   ]
  },
  {
   "cell_type": "code",
   "execution_count": 22,
   "metadata": {},
   "outputs": [
    {
     "name": "stdout",
     "output_type": "stream",
     "text": [
      "[1512 2232]\n",
      "[2304 1584]\n",
      "[2232 2448]\n"
     ]
    }
   ],
   "source": [
    "#perform all above operations in one function\n",
    "tf_dataset = tf.data.Dataset.from_tensor_slices(daily_sales_num)\n",
    "tf_dataset = tf_dataset.filter(lambda x: x>0).map(lambda y: y*72).shuffle(2).batch(2)\n",
    "for sales in tf_dataset:\n",
    "    print(sales.numpy())"
   ]
  },
  {
   "cell_type": "code",
   "execution_count": 26,
   "metadata": {},
   "outputs": [
    {
     "name": "stdout",
     "output_type": "stream",
     "text": [
      "b'C:\\\\Users\\\\prati\\\\Downloads\\\\archive (4)\\\\PetImages\\\\Cat\\\\0.jpg'\n",
      "b'C:\\\\Users\\\\prati\\\\Downloads\\\\archive (4)\\\\PetImages\\\\Cat\\\\1.jpg'\n",
      "b'C:\\\\Users\\\\prati\\\\Downloads\\\\archive (4)\\\\PetImages\\\\Cat\\\\10.jpg'\n"
     ]
    }
   ],
   "source": [
    "#Images\n",
    "images_ds = tf.data.Dataset.list_files(\"C:/Users/prati/Downloads/archive (4)/PetImages/*/*\", shuffle = False)\n",
    "for img in images_ds.take(3):\n",
    "    print(img.numpy())"
   ]
  },
  {
   "cell_type": "code",
   "execution_count": 27,
   "metadata": {},
   "outputs": [
    {
     "data": {
      "text/plain": [
       "24998"
      ]
     },
     "execution_count": 27,
     "metadata": {},
     "output_type": "execute_result"
    }
   ],
   "source": [
    "image_count = len(images_ds)\n",
    "image_count"
   ]
  },
  {
   "cell_type": "code",
   "execution_count": 28,
   "metadata": {},
   "outputs": [
    {
     "data": {
      "text/plain": [
       "tensorflow.python.data.ops.dataset_ops.TensorSliceDataset"
      ]
     },
     "execution_count": 28,
     "metadata": {},
     "output_type": "execute_result"
    }
   ],
   "source": [
    "type(images_ds)"
   ]
  },
  {
   "cell_type": "code",
   "execution_count": 29,
   "metadata": {},
   "outputs": [],
   "source": [
    "Classes = [\"Cat\", \"Dog\"]"
   ]
  },
  {
   "cell_type": "code",
   "execution_count": 30,
   "metadata": {},
   "outputs": [],
   "source": [
    "train_size = int(image_count*0.8)\n",
    "train_ds = images_ds.take(train_size)\n",
    "test_ds = images_ds.skip(train_size)\n"
   ]
  },
  {
   "cell_type": "code",
   "execution_count": 31,
   "metadata": {},
   "outputs": [
    {
     "data": {
      "text/plain": [
       "19998"
      ]
     },
     "execution_count": 31,
     "metadata": {},
     "output_type": "execute_result"
    }
   ],
   "source": [
    "len(train_ds)"
   ]
  },
  {
   "cell_type": "code",
   "execution_count": 32,
   "metadata": {},
   "outputs": [
    {
     "data": {
      "text/plain": [
       "5000"
      ]
     },
     "execution_count": 32,
     "metadata": {},
     "output_type": "execute_result"
    }
   ],
   "source": [
    "len(test_ds)"
   ]
  },
  {
   "cell_type": "code",
   "execution_count": 39,
   "metadata": {},
   "outputs": [],
   "source": [
    "def get_label(file_path):\n",
    "    import os\n",
    "    return tf.strings.split(file_path, os.path.sep) [-2]"
   ]
  },
  {
   "cell_type": "code",
   "execution_count": 40,
   "metadata": {},
   "outputs": [
    {
     "data": {
      "text/plain": [
       "<tf.Tensor: shape=(), dtype=string, numpy=b'Cat'>"
      ]
     },
     "execution_count": 40,
     "metadata": {},
     "output_type": "execute_result"
    }
   ],
   "source": [
    "get_label(\"C:\\\\Users\\\\prati\\\\Downloads\\\\archive (4)\\\\PetImages\\\\Cat\\\\0.jpg\")"
   ]
  },
  {
   "cell_type": "code",
   "execution_count": 45,
   "metadata": {},
   "outputs": [],
   "source": [
    "def process_img(file_path):\n",
    "    label = get_label(file_path)\n",
    "    img = tf.io.read_file(file_path)\n",
    "    img = tf.image.decode_jpeg(img)\n",
    "    img = tf.image.resize(img, [128, 128])\n",
    "    return img, label"
   ]
  },
  {
   "cell_type": "code",
   "execution_count": 46,
   "metadata": {},
   "outputs": [],
   "source": [
    "train_ds = train_ds.map(process_img)\n",
    "test_ds = test_ds.map(process_img)"
   ]
  },
  {
   "cell_type": "code",
   "execution_count": 47,
   "metadata": {},
   "outputs": [
    {
     "name": "stdout",
     "output_type": "stream",
     "text": [
      "*** tf.Tensor(\n",
      "[[[202.45312   165.45312    87.453125 ]\n",
      "  [206.35938   169.35938    91.359375 ]\n",
      "  [209.26562   172.26562    94.265625 ]\n",
      "  ...\n",
      "  [244.73438   207.        124.53125  ]\n",
      "  [242.        204.        119.71875  ]\n",
      "  [238.45312   201.45312   120.453125 ]]\n",
      "\n",
      " [[202.45312   165.45312    87.453125 ]\n",
      "  [206.35938   169.35938    91.359375 ]\n",
      "  [209.26562   172.26562    94.265625 ]\n",
      "  ...\n",
      "  [244.76239   208.31506   126.84509  ]\n",
      "  [243.        205.64294   122.32147  ]\n",
      "  [239.40533   202.40533   121.405334 ]]\n",
      "\n",
      " [[202.45312   165.45312    87.453125 ]\n",
      "  [206.35938   169.35938    91.359375 ]\n",
      "  [209.26562   172.26562    94.265625 ]\n",
      "  ...\n",
      "  [245.        210.        128.87091  ]\n",
      "  [243.        206.        125.       ]\n",
      "  [240.45312   203.45312   122.453125 ]]\n",
      "\n",
      " ...\n",
      "\n",
      " [[157.47266   125.         54.17578  ]\n",
      "  [158.47266   126.         55.17578  ]\n",
      "  [159.64844   127.17578    56.351562 ]\n",
      "  ...\n",
      "  [  3.          4.          0.       ]\n",
      "  [  3.          4.          0.       ]\n",
      "  [  2.1757812   3.1757812   0.       ]]\n",
      "\n",
      " [[153.89453   123.89453    53.89453  ]\n",
      "  [155.2539    125.25391    55.253906 ]\n",
      "  [157.23761   127.23761    57.23761  ]\n",
      "  ...\n",
      "  [  2.          3.          0.       ]\n",
      "  [  2.          3.          0.       ]\n",
      "  [  2.          3.          0.       ]]\n",
      "\n",
      " [[151.4372    121.437195   51.437195 ]\n",
      "  [152.97748   122.97748    52.977478 ]\n",
      "  [156.        126.         56.       ]\n",
      "  ...\n",
      "  [  1.          2.          0.       ]\n",
      "  [  1.          2.          0.       ]\n",
      "  [  1.          2.          0.       ]]], shape=(128, 128, 3), dtype=float32)\n",
      "*** tf.Tensor(b'Cat', shape=(), dtype=string)\n",
      "*** tf.Tensor(\n",
      "[[[ 36.195312  43.195312  36.195312]\n",
      "  [ 37.597656  43.58203   41.660156]\n",
      "  [ 37.453064  42.453064  45.81244 ]\n",
      "  ...\n",
      "  [157.07434  159.36353  141.5235  ]\n",
      "  [202.27362  202.29248  168.36737 ]\n",
      "  [201.78748  199.78748  161.18903 ]]\n",
      "\n",
      " [[ 40.        47.        40.      ]\n",
      "  [ 38.20703   44.191406  42.26953 ]\n",
      "  [ 38.20703   43.20703   46.566406]\n",
      "  ...\n",
      "  [163.87854  165.08557  150.05823 ]\n",
      "  [201.33014  198.9884   167.44867 ]\n",
      "  [196.8789   194.34613  157.94446 ]]\n",
      "\n",
      " [[ 36.675842  43.675842  36.675842]\n",
      "  [ 32.01953   38.003906  36.08203 ]\n",
      "  [ 32.39032   37.39032   40.749695]\n",
      "  ...\n",
      "  [153.31128  154.31128  143.52643 ]\n",
      "  [187.96765  183.99927  157.0694  ]\n",
      "  [204.96509  199.96893  169.2854  ]]\n",
      "\n",
      " ...\n",
      "\n",
      " [[ 23.355408  21.355408  22.355408]\n",
      "  [ 18.996094  16.996094  17.996094]\n",
      "  [ 19.004211  17.004211  18.004211]\n",
      "  ...\n",
      "  [ 51.90686   38.18811   32.524048]\n",
      "  [ 89.15155   76.15155   70.12811 ]\n",
      "  [ 38.331604  27.343323  21.308167]]\n",
      "\n",
      " [[ 28.277344  26.277344  27.277344]\n",
      "  [ 21.179016  19.179016  20.179016]\n",
      "  [ 20.640808  18.640808  19.640808]\n",
      "  ...\n",
      "  [ 50.44104   36.72229   29.081665]\n",
      "  [ 45.895325  32.895325  24.895325]\n",
      "  [ 40.328613  30.328613  21.328613]]\n",
      "\n",
      " [[ 30.513306  28.513306  29.513306]\n",
      "  [ 22.975037  20.975037  21.975037]\n",
      "  [ 22.83191   20.83191   21.83191 ]\n",
      "  ...\n",
      "  [ 60.710938  47.13678   38.94922 ]\n",
      "  [ 48.40576   35.40576   27.003418]\n",
      "  [ 41.353455  31.353455  21.95111 ]]], shape=(128, 128, 3), dtype=float32)\n",
      "*** tf.Tensor(b'Cat', shape=(), dtype=string)\n",
      "*** tf.Tensor(\n",
      "[[[2.88723145e+01 3.47785645e+01 4.07785645e+01]\n",
      "  [1.18554688e+01 1.72148438e+01 2.50643311e+01]\n",
      "  [2.67117920e+01 3.20711670e+01 4.26180420e+01]\n",
      "  ...\n",
      "  [1.30000000e+02 1.65000000e+02 1.61000000e+02]\n",
      "  [1.30000000e+02 1.62000000e+02 1.57000000e+02]\n",
      "  [1.26410156e+02 1.58410156e+02 1.55410156e+02]]\n",
      "\n",
      " [[3.76408691e+01 4.60968628e+01 4.95257568e+01]\n",
      "  [3.89953003e+01 4.69906006e+01 5.20968628e+01]\n",
      "  [3.94284058e+01 4.71471558e+01 5.48528442e+01]\n",
      "  ...\n",
      "  [1.30000000e+02 1.65000000e+02 1.59101562e+02]\n",
      "  [1.31507019e+02 1.64507019e+02 1.57507019e+02]\n",
      "  [1.27622131e+02 1.59622131e+02 1.54622131e+02]]\n",
      "\n",
      " [[4.45312500e+01 5.50625000e+01 5.57968750e+01]\n",
      "  [4.82734375e+01 5.87434692e+01 6.03346558e+01]\n",
      "  [4.76970825e+01 5.72283325e+01 6.15330200e+01]\n",
      "  ...\n",
      "  [1.30568542e+02 1.65568542e+02 1.59670105e+02]\n",
      "  [1.33000000e+02 1.66000000e+02 1.57000000e+02]\n",
      "  [1.29410156e+02 1.62410156e+02 1.55410156e+02]]\n",
      "\n",
      " ...\n",
      "\n",
      " [[1.83418396e+02 1.70418396e+02 1.26418396e+02]\n",
      "  [1.73307312e+02 1.60246094e+02 1.17299500e+02]\n",
      "  [1.67154114e+02 1.53154114e+02 1.14181091e+02]\n",
      "  ...\n",
      "  [1.91000000e+02 1.93000000e+02 0.00000000e+00]\n",
      "  [1.90895813e+02 1.91126282e+02 7.04296875e+00]\n",
      "  [1.74496094e+02 1.69015198e+02 1.62274170e+01]]\n",
      "\n",
      " [[1.74751038e+02 1.61751038e+02 1.16751038e+02]\n",
      "  [1.64929749e+02 1.51929749e+02 1.08095398e+02]\n",
      "  [1.52786438e+02 1.39768188e+02 9.78229370e+01]\n",
      "  ...\n",
      "  [1.92981750e+02 1.94930969e+02 8.33129883e-02]\n",
      "  [1.88691406e+02 1.88921875e+02 5.30859375e+00]\n",
      "  [1.69589844e+02 1.64000000e+02 1.15390625e+01]]\n",
      "\n",
      " [[1.53440796e+02 1.39440796e+02 1.01620483e+02]\n",
      "  [1.51302856e+02 1.38302856e+02 9.40723877e+01]\n",
      "  [1.57174927e+02 1.44174927e+02 9.92257080e+01]\n",
      "  ...\n",
      "  [1.91430115e+02 1.92430115e+02 5.31677246e-01]\n",
      "  [1.88270569e+02 1.88501038e+02 3.34869385e+00]\n",
      "  [1.71553040e+02 1.67963196e+02 5.32257080e+00]]], shape=(128, 128, 3), dtype=float32)\n",
      "*** tf.Tensor(b'Cat', shape=(), dtype=string)\n"
     ]
    }
   ],
   "source": [
    "for image, label in train_ds.take(3):\n",
    "    print(\"***\", image)\n",
    "    print('***', label)"
   ]
  },
  {
   "cell_type": "code",
   "execution_count": null,
   "metadata": {},
   "outputs": [],
   "source": []
  }
 ],
 "metadata": {
  "kernelspec": {
   "display_name": "Python 3",
   "language": "python",
   "name": "python3"
  },
  "language_info": {
   "codemirror_mode": {
    "name": "ipython",
    "version": 3
   },
   "file_extension": ".py",
   "mimetype": "text/x-python",
   "name": "python",
   "nbconvert_exporter": "python",
   "pygments_lexer": "ipython3",
   "version": "3.8.3"
  }
 },
 "nbformat": 4,
 "nbformat_minor": 4
}
