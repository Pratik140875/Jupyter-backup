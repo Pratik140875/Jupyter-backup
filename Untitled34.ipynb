{
 "cells": [
  {
   "cell_type": "code",
   "execution_count": 1,
   "metadata": {},
   "outputs": [],
   "source": [
    "import numpy as np\n",
    "from keras.models import model_from_json\n",
    "import operator\n",
    "import cv2\n",
    "import sys, os\n"
   ]
  },
  {
   "cell_type": "code",
   "execution_count": 2,
   "metadata": {},
   "outputs": [],
   "source": [
    "if not os.path.exists(\"C:/Users/prati/Downloads/ASL-Recognition-with-Deep-Learning-master/ASL-Recognition-with-Deep-Learning-master/datasets/data1\"):\n",
    "    os.makedirs(\"C:/Users/prati/Downloads/ASL-Recognition-with-Deep-Learning-master/ASL-Recognition-with-Deep-Learning-master/datasets/data1\")\n",
    "    os.makedirs(\"C:/Users/prati/Downloads/ASL-Recognition-with-Deep-Learning-master/ASL-Recognition-with-Deep-Learning-master/datasets/data1/train\")\n",
    "    os.makedirs(\"C:/Users/prati/Downloads/ASL-Recognition-with-Deep-Learning-master/ASL-Recognition-with-Deep-Learning-master/datasets/data1/test\")\n",
    "    os.makedirs(\"C:/Users/prati/Downloads/ASL-Recognition-with-Deep-Learning-master/ASL-Recognition-with-Deep-Learning-master/datasets/data1/train/a\")\n",
    "    os.makedirs(\"C:/Users/prati/Downloads/ASL-Recognition-with-Deep-Learning-master/ASL-Recognition-with-Deep-Learning-master/datasets/data1/test/a\")\n",
    "    os.makedirs(\"C:/Users/prati/Downloads/ASL-Recognition-with-Deep-Learning-master/ASL-Recognition-with-Deep-Learning-master/datasets/data1/train/b\")\n",
    "    os.makedirs(\"C:/Users/prati/Downloads/ASL-Recognition-with-Deep-Learning-master/ASL-Recognition-with-Deep-Learning-master/datasets/data1/test/b\")\n",
    "    os.makedirs(\"C:/Users/prati/Downloads/ASL-Recognition-with-Deep-Learning-master/ASL-Recognition-with-Deep-Learning-master/datasets/data1/train/c\")\n",
    "    os.makedirs(\"C:/Users/prati/Downloads/ASL-Recognition-with-Deep-Learning-master/ASL-Recognition-with-Deep-Learning-master/datasets/data1/test/c\")\n",
    "    os.makedirs(\"C:/Users/prati/Downloads/ASL-Recognition-with-Deep-Learning-master/ASL-Recognition-with-Deep-Learning-master/datasets/data1/train/d\")\n",
    "    os.makedirs(\"C:/Users/prati/Downloads/ASL-Recognition-with-Deep-Learning-master/ASL-Recognition-with-Deep-Learning-master/datasets/data1/test/d\")\n",
    "    os.makedirs(\"C:/Users/prati/Downloads/ASL-Recognition-with-Deep-Learning-master/ASL-Recognition-with-Deep-Learning-master/datasets/data1/train/e\")\n",
    "    os.makedirs(\"C:/Users/prati/Downloads/ASL-Recognition-with-Deep-Learning-master/ASL-Recognition-with-Deep-Learning-master/datasets/data1/test/e\")\n",
    "    os.makedirs(\"C:/Users/prati/Downloads/ASL-Recognition-with-Deep-Learning-master/ASL-Recognition-with-Deep-Learning-master/datasets/data1/train/f\")\n",
    "    os.makedirs(\"C:/Users/prati/Downloads/ASL-Recognition-with-Deep-Learning-master/ASL-Recognition-with-Deep-Learning-master/datasets/data1/test/f\")\n",
    "    os.makedirs(\"C:/Users/prati/Downloads/ASL-Recognition-with-Deep-Learning-master/ASL-Recognition-with-Deep-Learning-master/datasets/data1/train/g\")\n",
    "    os.makedirs(\"C:/Users/prati/Downloads/ASL-Recognition-with-Deep-Learning-master/ASL-Recognition-with-Deep-Learning-master/datasets/data1/test/g\")\n",
    "    os.makedirs(\"C:/Users/prati/Downloads/ASL-Recognition-with-Deep-Learning-master/ASL-Recognition-with-Deep-Learning-master/datasets/data1/train/h\")\n",
    "    os.makedirs(\"C:/Users/prati/Downloads/ASL-Recognition-with-Deep-Learning-master/ASL-Recognition-with-Deep-Learning-master/datasets/data1/test/h\")\n",
    "    os.makedirs(\"C:/Users/prati/Downloads/ASL-Recognition-with-Deep-Learning-master/ASL-Recognition-with-Deep-Learning-master/datasets/data1/train/i\")\n",
    "    os.makedirs(\"C:/Users/prati/Downloads/ASL-Recognition-with-Deep-Learning-master/ASL-Recognition-with-Deep-Learning-master/datasets/data1/test/i\")\n",
    "    os.makedirs(\"C:/Users/prati/Downloads/ASL-Recognition-with-Deep-Learning-master/ASL-Recognition-with-Deep-Learning-master/datasets/data1/train/j\")\n",
    "    os.makedirs(\"C:/Users/prati/Downloads/ASL-Recognition-with-Deep-Learning-master/ASL-Recognition-with-Deep-Learning-master/datasets/data1/test/j\")\n",
    "    os.makedirs(\"C:/Users/prati/Downloads/ASL-Recognition-with-Deep-Learning-master/ASL-Recognition-with-Deep-Learning-master/datasets/data1/train/k\")\n",
    "    os.makedirs(\"C:/Users/prati/Downloads/ASL-Recognition-with-Deep-Learning-master/ASL-Recognition-with-Deep-Learning-master/datasets/data1/test/k\")\n",
    "    os.makedirs(\"C:/Users/prati/Downloads/ASL-Recognition-with-Deep-Learning-master/ASL-Recognition-with-Deep-Learning-master/datasets/data1/train/l\")\n",
    "    os.makedirs(\"C:/Users/prati/Downloads/ASL-Recognition-with-Deep-Learning-master/ASL-Recognition-with-Deep-Learning-master/datasets/data1/test/l\")\n",
    "    os.makedirs(\"C:/Users/prati/Downloads/ASL-Recognition-with-Deep-Learning-master/ASL-Recognition-with-Deep-Learning-master/datasets/data1/train/m\")\n",
    "    os.makedirs(\"C:/Users/prati/Downloads/ASL-Recognition-with-Deep-Learning-master/ASL-Recognition-with-Deep-Learning-master/datasets/data1/test/m\")\n",
    "    os.makedirs(\"C:/Users/prati/Downloads/ASL-Recognition-with-Deep-Learning-master/ASL-Recognition-with-Deep-Learning-master/datasets/data1/train/n\")\n",
    "    os.makedirs(\"C:/Users/prati/Downloads/ASL-Recognition-with-Deep-Learning-master/ASL-Recognition-with-Deep-Learning-master/datasets/data1/test/n\")\n",
    "    os.makedirs(\"C:/Users/prati/Downloads/ASL-Recognition-with-Deep-Learning-master/ASL-Recognition-with-Deep-Learning-master/datasets/data1/train/o\")\n",
    "    os.makedirs(\"C:/Users/prati/Downloads/ASL-Recognition-with-Deep-Learning-master/ASL-Recognition-with-Deep-Learning-master/datasets/data1/test/o\")\n",
    "    os.makedirs(\"C:/Users/prati/Downloads/ASL-Recognition-with-Deep-Learning-master/ASL-Recognition-with-Deep-Learning-master/datasets/data1/train/p\")\n",
    "    os.makedirs(\"C:/Users/prati/Downloads/ASL-Recognition-with-Deep-Learning-master/ASL-Recognition-with-Deep-Learning-master/datasets/data1/test/p\")\n",
    "    os.makedirs(\"C:/Users/prati/Downloads/ASL-Recognition-with-Deep-Learning-master/ASL-Recognition-with-Deep-Learning-master/datasets/data1/train/q\")\n",
    "    os.makedirs(\"C:/Users/prati/Downloads/ASL-Recognition-with-Deep-Learning-master/ASL-Recognition-with-Deep-Learning-master/datasets/data1/test/q\")\n",
    "    os.makedirs(\"C:/Users/prati/Downloads/ASL-Recognition-with-Deep-Learning-master/ASL-Recognition-with-Deep-Learning-master/datasets/data1/train/r\")\n",
    "    os.makedirs(\"C:/Users/prati/Downloads/ASL-Recognition-with-Deep-Learning-master/ASL-Recognition-with-Deep-Learning-master/datasets/data1/test/r\")\n",
    "    os.makedirs(\"C:/Users/prati/Downloads/ASL-Recognition-with-Deep-Learning-master/ASL-Recognition-with-Deep-Learning-master/datasets/data1/train/s\")\n",
    "    os.makedirs(\"C:/Users/prati/Downloads/ASL-Recognition-with-Deep-Learning-master/ASL-Recognition-with-Deep-Learning-master/datasets/data1/test/s\")\n",
    "    os.makedirs(\"C:/Users/prati/Downloads/ASL-Recognition-with-Deep-Learning-master/ASL-Recognition-with-Deep-Learning-master/datasets/data1/train/t\")\n",
    "    os.makedirs(\"C:/Users/prati/Downloads/ASL-Recognition-with-Deep-Learning-master/ASL-Recognition-with-Deep-Learning-master/datasets/data1/test/t\")\n",
    "    os.makedirs(\"C:/Users/prati/Downloads/ASL-Recognition-with-Deep-Learning-master/ASL-Recognition-with-Deep-Learning-master/datasets/data1/train/u\")\n",
    "    os.makedirs(\"C:/Users/prati/Downloads/ASL-Recognition-with-Deep-Learning-master/ASL-Recognition-with-Deep-Learning-master/datasets/data1/test/u\")\n",
    "    os.makedirs(\"C:/Users/prati/Downloads/ASL-Recognition-with-Deep-Learning-master/ASL-Recognition-with-Deep-Learning-master/datasets/data1/train/v\")\n",
    "    os.makedirs(\"C:/Users/prati/Downloads/ASL-Recognition-with-Deep-Learning-master/ASL-Recognition-with-Deep-Learning-master/datasets/data1/test/v\")\n",
    "    os.makedirs(\"C:/Users/prati/Downloads/ASL-Recognition-with-Deep-Learning-master/ASL-Recognition-with-Deep-Learning-master/datasets/data1/train/w\")\n",
    "    os.makedirs(\"C:/Users/prati/Downloads/ASL-Recognition-with-Deep-Learning-master/ASL-Recognition-with-Deep-Learning-master/datasets/data1/test/w\")\n",
    "    os.makedirs(\"C:/Users/prati/Downloads/ASL-Recognition-with-Deep-Learning-master/ASL-Recognition-with-Deep-Learning-master/datasets/data1/train/x\")\n",
    "    os.makedirs(\"C:/Users/prati/Downloads/ASL-Recognition-with-Deep-Learning-master/ASL-Recognition-with-Deep-Learning-master/datasets/data1/test/x\")\n",
    "    os.makedirs(\"C:/Users/prati/Downloads/ASL-Recognition-with-Deep-Learning-master/ASL-Recognition-with-Deep-Learning-master/datasets/data1/train/y\")\n",
    "    os.makedirs(\"C:/Users/prati/Downloads/ASL-Recognition-with-Deep-Learning-master/ASL-Recognition-with-Deep-Learning-master/datasets/data1/test/y\")\n",
    "    os.makedirs(\"C:/Users/prati/Downloads/ASL-Recognition-with-Deep-Learning-master/ASL-Recognition-with-Deep-Learning-master/datasets/data1/train/z\")\n",
    "    os.makedirs(\"C:/Users/prati/Downloads/ASL-Recognition-with-Deep-Learning-master/ASL-Recognition-with-Deep-Learning-master/datasets/data1/test/z\")\n",
    "\n"
   ]
  },
  {
   "cell_type": "code",
   "execution_count": 3,
   "metadata": {},
   "outputs": [],
   "source": [
    "mode = 'train'\n",
    "directory = 'C:/Users/prati/Downloads/ASL-Recognition-with-Deep-Learning-master/ASL-Recognition-with-Deep-Learning-master/datasets/data1/'+mode+'/'"
   ]
  },
  {
   "cell_type": "code",
   "execution_count": 4,
   "metadata": {},
   "outputs": [],
   "source": [
    "cap = cv2.VideoCapture(0)\n",
    "\n",
    "while True:\n",
    "    _, frame = cap.read()\n",
    "    # Simulating mirror image\n",
    "    frame = cv2.flip(frame, 1)\n",
    "    # Getting count of existing images\n",
    "    count = {'A': len(os.listdir(directory+\"/a\")),\n",
    "             'B': len(os.listdir(directory+\"/b\")),\n",
    "             'C': len(os.listdir(directory+\"/c\")),\n",
    "             'D': len(os.listdir(directory+\"/d\")),\n",
    "             'E': len(os.listdir(directory+\"/e\")),\n",
    "             'F': len(os.listdir(directory+\"/f\")),\n",
    "             'G': len(os.listdir(directory+\"/g\")),\n",
    "             'H': len(os.listdir(directory+\"/h\")),\n",
    "             'I': len(os.listdir(directory+\"/i\")),\n",
    "             'J': len(os.listdir(directory+\"/j\")),\n",
    "             'K': len(os.listdir(directory+\"/k\")),\n",
    "             'L': len(os.listdir(directory+\"/l\")),\n",
    "             'M': len(os.listdir(directory+\"/m\")),\n",
    "             'N': len(os.listdir(directory+\"/n\")),\n",
    "             'O': len(os.listdir(directory+\"/o\")),\n",
    "             'P': len(os.listdir(directory+\"/p\")),\n",
    "             'Q': len(os.listdir(directory+\"/q\")),\n",
    "             'R': len(os.listdir(directory+\"/r\")),\n",
    "             'S': len(os.listdir(directory+\"/s\")),\n",
    "             'T': len(os.listdir(directory+\"/t\")),\n",
    "             'U': len(os.listdir(directory+\"/u\")),\n",
    "             'V': len(os.listdir(directory+\"/v\")),\n",
    "             'W': len(os.listdir(directory+\"/w\")),\n",
    "             'X': len(os.listdir(directory+\"/x\")),\n",
    "             'Y': len(os.listdir(directory+\"/y\")),\n",
    "             'Z': len(os.listdir(directory+\"/z\"))}\n",
    "    cv2.putText(frame, \"MODE : \"+mode, (10, 50), cv2.FONT_HERSHEY_PLAIN, 1, (0,255,255), 1)\n",
    "    cv2.putText(frame, \"IMAGE COUNT\", (10, 100), cv2.FONT_HERSHEY_PLAIN, 1, (0,255,255), 1)\n",
    "    cv2.putText(frame, \"A : \"+str(count['A']), (10, 120), cv2.FONT_HERSHEY_PLAIN, 1, (0,255,255), 1)\n",
    "    cv2.putText(frame, \"B : \"+str(count['B']), (10, 140), cv2.FONT_HERSHEY_PLAIN, 1, (0,255,255), 1)\n",
    "    cv2.putText(frame, \"C : \"+str(count['C']), (10, 160), cv2.FONT_HERSHEY_PLAIN, 1, (0,255,255), 1)\n",
    "    cv2.putText(frame, \"D : \"+str(count['D']), (10, 180), cv2.FONT_HERSHEY_PLAIN, 1, (0,255,255), 1)\n",
    "    cv2.putText(frame, \"E : \"+str(count['E']), (10, 200), cv2.FONT_HERSHEY_PLAIN, 1, (0,255,255), 1)\n",
    "    cv2.putText(frame, \"F : \"+str(count['F']), (10, 220), cv2.FONT_HERSHEY_PLAIN, 1, (0,255,255), 1)\n",
    "    cv2.putText(frame, \"G : \"+str(count['G']), (10, 240), cv2.FONT_HERSHEY_PLAIN, 1, (0,255,255), 1)\n",
    "    cv2.putText(frame, \"H : \"+str(count['H']), (10, 260), cv2.FONT_HERSHEY_PLAIN, 1, (0,255,255), 1)\n",
    "    cv2.putText(frame, \"I : \"+str(count['I']), (10, 280), cv2.FONT_HERSHEY_PLAIN, 1, (0,255,255), 1)\n",
    "    cv2.putText(frame, \"J : \"+str(count['J']), (10, 300), cv2.FONT_HERSHEY_PLAIN, 1, (0,255,255), 1)\n",
    "    cv2.putText(frame, \"K : \"+str(count['K']), (10, 320), cv2.FONT_HERSHEY_PLAIN, 1, (0,255,255), 1)\n",
    "    cv2.putText(frame, \"L : \"+str(count['L']), (10, 340), cv2.FONT_HERSHEY_PLAIN, 1, (0,255,255), 1)\n",
    "    cv2.putText(frame, \"M : \"+str(count['M']), (10, 360), cv2.FONT_HERSHEY_PLAIN, 1, (0,255,255), 1)\n",
    "    cv2.putText(frame, \"N : \"+str(count['N']), (10, 380), cv2.FONT_HERSHEY_PLAIN, 1, (0,255,255), 1)\n",
    "    cv2.putText(frame, \"O : \"+str(count['O']), (10, 400), cv2.FONT_HERSHEY_PLAIN, 1, (0,255,255), 1)\n",
    "    cv2.putText(frame, \"P : \"+str(count['P']), (10, 420), cv2.FONT_HERSHEY_PLAIN, 1, (0,255,255), 1)\n",
    "    cv2.putText(frame, \"Q : \"+str(count['Q']), (100,120), cv2.FONT_HERSHEY_PLAIN, 1, (0,255,255), 1)\n",
    "    cv2.putText(frame, \"R : \"+str(count['R']), (100,140), cv2.FONT_HERSHEY_PLAIN, 1, (0,255,255), 1)\n",
    "    cv2.putText(frame, \"S : \"+str(count['S']), (100,160), cv2.FONT_HERSHEY_PLAIN, 1, (0,255,255), 1)\n",
    "    cv2.putText(frame, \"T : \"+str(count['T']), (100,180), cv2.FONT_HERSHEY_PLAIN, 1, (0,255,255), 1)\n",
    "    cv2.putText(frame, \"U : \"+str(count['U']), (100,200), cv2.FONT_HERSHEY_PLAIN, 1, (0,255,255), 1)\n",
    "    cv2.putText(frame, \"V : \"+str(count['V']), (100,220), cv2.FONT_HERSHEY_PLAIN, 1, (0,255,255), 1)\n",
    "    cv2.putText(frame, \"W : \"+str(count['W']), (100,240), cv2.FONT_HERSHEY_PLAIN, 1, (0,255,255), 1)\n",
    "    cv2.putText(frame, \"X : \"+str(count['X']), (100,260), cv2.FONT_HERSHEY_PLAIN, 1, (0,255,255), 1)\n",
    "    cv2.putText(frame, \"Y : \"+str(count['Y']), (100,280), cv2.FONT_HERSHEY_PLAIN, 1, (0,255,255), 1)\n",
    "    cv2.putText(frame, \"Z : \"+str(count['Z']), (100,300), cv2.FONT_HERSHEY_PLAIN, 1, (0,255,255), 1)\n",
    "    \n",
    "    \n",
    "   \n",
    "    # do the processing after capturing the image!\n",
    "    hsv = cv2.cvtColor(frame, cv2.COLOR_BGR2HSV) \n",
    "    # define range of red color in HSV \n",
    "    lower_red = np.array([30,150,50]) \n",
    "    upper_red = np.array([255,255,180]) \n",
    "    \n",
    "    # create a red HSV colour boundary and  \n",
    "    # threshold HSV image \n",
    "    mask = cv2.inRange(hsv, lower_red, upper_red) \n",
    "  \n",
    "    # Bitwise-AND mask and original image \n",
    "    res = cv2.bitwise_and(frame,frame, mask= mask) \n",
    "    x1 = int(0.5*frame.shape[1])\n",
    "    y1 = 10\n",
    "    x2 = frame.shape[1]-10\n",
    "    y2 = int(0.5*frame.shape[1])\n",
    "    # Drawing the ROI\n",
    "    # The increment/decrement by 1 is to compensate for the bounding box\n",
    "    cv2.rectangle(frame, (x1-1, y1-1), (x2+1, y2+1), (255,0,0) ,1)\n",
    "    # Extracting the ROI\n",
    "    roi = frame[y1:y2, x1:x2]\n",
    "    roi = cv2.resize(roi, (64,64))\n",
    "  \n",
    "    # Display an original image \n",
    "    cv2.imshow('Original',frame) \n",
    "  \n",
    "    # finds edges in the input image image and \n",
    "    # marks them in the output map edges \n",
    "    edges = cv2.Canny(roi,100,200)\n",
    "     # Display edges in a frame \n",
    "    cv2.imshow('Edges',edges) \n",
    "    \n",
    "    interrupt = cv2.waitKey(10)\n",
    "    if interrupt & 0xFF == 27: # esc key\n",
    "        break\n",
    "        \n",
    "    if interrupt & 0xFF == ord('a'):\n",
    "        cv2.imwrite(directory+'a/'+str(count['A'])+'.jpg', edges)\n",
    "    if interrupt & 0xFF == ord('b'):\n",
    "        cv2.imwrite(directory+'b/'+str(count['B'])+'.jpg', edges)\n",
    "    if interrupt & 0xFF == ord('c'):\n",
    "        cv2.imwrite(directory+'c/'+str(count['C'])+'.jpg', edges)\n",
    "    if interrupt & 0xFF == ord('d'):\n",
    "        cv2.imwrite(directory+'d/'+str(count['D'])+'.jpg', edges)\n",
    "    if interrupt & 0xFF == ord('e'):\n",
    "        cv2.imwrite(directory+'e/'+str(count['E'])+'.jpg', edges)\n",
    "    if interrupt & 0xFF == ord('f'):\n",
    "        cv2.imwrite(directory+'f/'+str(count['F'])+'.jpg', edges)\n",
    "    if interrupt & 0xFF == ord('g'):\n",
    "        cv2.imwrite(directory+'g/'+str(count['G'])+'.jpg', edges)\n",
    "    if interrupt & 0xFF == ord('h'):\n",
    "        cv2.imwrite(directory+'h/'+str(count['H'])+'.jpg', edges)\n",
    "    if interrupt & 0xFF == ord('i'):\n",
    "        cv2.imwrite(directory+'i/'+str(count['I'])+'.jpg', edges)\n",
    "    if interrupt & 0xFF == ord('j'):\n",
    "        cv2.imwrite(directory+'j/'+str(count['J'])+'.jpg', edges)\n",
    "    if interrupt & 0xFF == ord('k'):\n",
    "        cv2.imwrite(directory+'k/'+str(count['K'])+'.jpg', edges)\n",
    "    if interrupt & 0xFF == ord('l'):\n",
    "        cv2.imwrite(directory+'l/'+str(count['L'])+'.jpg', edges)\n",
    "    if interrupt & 0xFF == ord('m'):\n",
    "        cv2.imwrite(directory+'m/'+str(count['M'])+'.jpg', edges)\n",
    "    if interrupt & 0xFF == ord('n'):\n",
    "        cv2.imwrite(directory+'n/'+str(count['N'])+'.jpg', edges)\n",
    "    if interrupt & 0xFF == ord('o'):\n",
    "        cv2.imwrite(directory+'o/'+str(count['O'])+'.jpg', edges)\n",
    "    if interrupt & 0xFF == ord('p'):\n",
    "        cv2.imwrite(directory+'p/'+str(count['P'])+'.jpg', edges)\n",
    "    if interrupt & 0xFF == ord('q'):\n",
    "        cv2.imwrite(directory+'q/'+str(count['Q'])+'.jpg', edges)\n",
    "    if interrupt & 0xFF == ord('r'):\n",
    "        cv2.imwrite(directory+'r/'+str(count['R'])+'.jpg', edges)\n",
    "    if interrupt & 0xFF == ord('s'):\n",
    "        cv2.imwrite(directory+'s/'+str(count['S'])+'.jpg', edges)\n",
    "    if interrupt & 0xFF == ord('t'):\n",
    "        cv2.imwrite(directory+'t/'+str(count['T'])+'.jpg', edges)\n",
    "    if interrupt & 0xFF == ord('u'):\n",
    "        cv2.imwrite(directory+'u/'+str(count['U'])+'.jpg', edges)\n",
    "    if interrupt & 0xFF == ord('v'):\n",
    "        cv2.imwrite(directory+'v/'+str(count['V'])+'.jpg', edges)\n",
    "    if interrupt & 0xFF == ord('w'):\n",
    "        cv2.imwrite(directory+'w/'+str(count['W'])+'.jpg', edges)\n",
    "    if interrupt & 0xFF == ord('x'):\n",
    "        cv2.imwrite(directory+'x/'+str(count['X'])+'.jpg', edges)\n",
    "    if interrupt & 0xFF == ord('y'):\n",
    "        cv2.imwrite(directory+'y/'+str(count['Y'])+'.jpg', edges)\n",
    "    if interrupt & 0xFF == ord('z'):\n",
    "        cv2.imwrite(directory+'z/'+str(count['Z'])+'.jpg', edges)\n",
    "    \n",
    "cap.release()\n",
    "cv2.destroyAllWindows()\n",
    "    \n",
    "\n"
   ]
  },
  {
   "cell_type": "code",
   "execution_count": 5,
   "metadata": {},
   "outputs": [],
   "source": [
    "mode = 'test'\n",
    "directory = 'C:/Users/prati/Downloads/ASL-Recognition-with-Deep-Learning-master/ASL-Recognition-with-Deep-Learning-master/datasets/data1/'+mode+'/'"
   ]
  },
  {
   "cell_type": "code",
   "execution_count": 6,
   "metadata": {},
   "outputs": [],
   "source": [
    "cap = cv2.VideoCapture(0)\n",
    "\n",
    "while True:\n",
    "    _, frame = cap.read()\n",
    "    # Simulating mirror image\n",
    "    frame = cv2.flip(frame, 1)\n",
    "    \n",
    "    # Getting count of existing images\n",
    "    count = {'A': len(os.listdir(directory+\"/a\")),\n",
    "             'B': len(os.listdir(directory+\"/b\")),\n",
    "             'C': len(os.listdir(directory+\"/c\")),\n",
    "             'D': len(os.listdir(directory+\"/d\")),\n",
    "             'E': len(os.listdir(directory+\"/e\")),\n",
    "             'F': len(os.listdir(directory+\"/f\")),\n",
    "             'G': len(os.listdir(directory+\"/g\")),\n",
    "             'H': len(os.listdir(directory+\"/h\")),\n",
    "             'I': len(os.listdir(directory+\"/i\")),\n",
    "             'J': len(os.listdir(directory+\"/j\")),\n",
    "             'K': len(os.listdir(directory+\"/k\")),\n",
    "             'L': len(os.listdir(directory+\"/l\")),\n",
    "             'M': len(os.listdir(directory+\"/m\")),\n",
    "             'N': len(os.listdir(directory+\"/n\")),\n",
    "             'O': len(os.listdir(directory+\"/o\")),\n",
    "             'P': len(os.listdir(directory+\"/p\")),\n",
    "             'Q': len(os.listdir(directory+\"/q\")),\n",
    "             'R': len(os.listdir(directory+\"/r\")),\n",
    "             'S': len(os.listdir(directory+\"/s\")),\n",
    "             'T': len(os.listdir(directory+\"/t\")),\n",
    "             'U': len(os.listdir(directory+\"/u\")),\n",
    "             'V': len(os.listdir(directory+\"/v\")),\n",
    "             'W': len(os.listdir(directory+\"/w\")),\n",
    "             'X': len(os.listdir(directory+\"/x\")),\n",
    "             'Y': len(os.listdir(directory+\"/y\")),\n",
    "             'Z': len(os.listdir(directory+\"/z\"))}\n",
    "    cv2.putText(frame, \"MODE : \"+mode, (10, 50), cv2.FONT_HERSHEY_PLAIN, 1, (0,255,255), 1)\n",
    "    cv2.putText(frame, \"IMAGE COUNT\", (10, 100), cv2.FONT_HERSHEY_PLAIN, 1, (0,255,255), 1)\n",
    "    cv2.putText(frame, \"A : \"+str(count['A']), (10, 120), cv2.FONT_HERSHEY_PLAIN, 1, (0,255,255), 1)\n",
    "    cv2.putText(frame, \"B : \"+str(count['B']), (10, 140), cv2.FONT_HERSHEY_PLAIN, 1, (0,255,255), 1)\n",
    "    cv2.putText(frame, \"C : \"+str(count['C']), (10, 160), cv2.FONT_HERSHEY_PLAIN, 1, (0,255,255), 1)\n",
    "    cv2.putText(frame, \"D : \"+str(count['D']), (10, 180), cv2.FONT_HERSHEY_PLAIN, 1, (0,255,255), 1)\n",
    "    cv2.putText(frame, \"E : \"+str(count['E']), (10, 200), cv2.FONT_HERSHEY_PLAIN, 1, (0,255,255), 1)\n",
    "    cv2.putText(frame, \"F : \"+str(count['F']), (10, 220), cv2.FONT_HERSHEY_PLAIN, 1, (0,255,255), 1)\n",
    "    cv2.putText(frame, \"G : \"+str(count['G']), (10, 240), cv2.FONT_HERSHEY_PLAIN, 1, (0,255,255), 1)\n",
    "    cv2.putText(frame, \"H : \"+str(count['H']), (10, 260), cv2.FONT_HERSHEY_PLAIN, 1, (0,255,255), 1)\n",
    "    cv2.putText(frame, \"I : \"+str(count['I']), (10, 280), cv2.FONT_HERSHEY_PLAIN, 1, (0,255,255), 1)\n",
    "    cv2.putText(frame, \"J : \"+str(count['J']), (10, 300), cv2.FONT_HERSHEY_PLAIN, 1, (0,255,255), 1)\n",
    "    cv2.putText(frame, \"K : \"+str(count['K']), (10, 320), cv2.FONT_HERSHEY_PLAIN, 1, (0,255,255), 1)\n",
    "    cv2.putText(frame, \"L : \"+str(count['L']), (10, 340), cv2.FONT_HERSHEY_PLAIN, 1, (0,255,255), 1)\n",
    "    cv2.putText(frame, \"M : \"+str(count['M']), (10, 360), cv2.FONT_HERSHEY_PLAIN, 1, (0,255,255), 1)\n",
    "    cv2.putText(frame, \"N : \"+str(count['N']), (10, 380), cv2.FONT_HERSHEY_PLAIN, 1, (0,255,255), 1)\n",
    "    cv2.putText(frame, \"O : \"+str(count['O']), (10, 400), cv2.FONT_HERSHEY_PLAIN, 1, (0,255,255), 1)\n",
    "    cv2.putText(frame, \"P : \"+str(count['P']), (10, 420), cv2.FONT_HERSHEY_PLAIN, 1, (0,255,255), 1)\n",
    "    cv2.putText(frame, \"Q : \"+str(count['Q']), (100,120), cv2.FONT_HERSHEY_PLAIN, 1, (0,255,255), 1)\n",
    "    cv2.putText(frame, \"R : \"+str(count['R']), (100,140), cv2.FONT_HERSHEY_PLAIN, 1, (0,255,255), 1)\n",
    "    cv2.putText(frame, \"S : \"+str(count['S']), (100,160), cv2.FONT_HERSHEY_PLAIN, 1, (0,255,255), 1)\n",
    "    cv2.putText(frame, \"T : \"+str(count['T']), (100,180), cv2.FONT_HERSHEY_PLAIN, 1, (0,255,255), 1)\n",
    "    cv2.putText(frame, \"U : \"+str(count['U']), (100,200), cv2.FONT_HERSHEY_PLAIN, 1, (0,255,255), 1)\n",
    "    cv2.putText(frame, \"V : \"+str(count['V']), (100,220), cv2.FONT_HERSHEY_PLAIN, 1, (0,255,255), 1)\n",
    "    cv2.putText(frame, \"W : \"+str(count['W']), (100,240), cv2.FONT_HERSHEY_PLAIN, 1, (0,255,255), 1)\n",
    "    cv2.putText(frame, \"X : \"+str(count['X']), (100,260), cv2.FONT_HERSHEY_PLAIN, 1, (0,255,255), 1)\n",
    "    cv2.putText(frame, \"Y : \"+str(count['Y']), (100,280), cv2.FONT_HERSHEY_PLAIN, 1, (0,255,255), 1)\n",
    "    cv2.putText(frame, \"Z : \"+str(count['Z']), (100,300), cv2.FONT_HERSHEY_PLAIN, 1, (0,255,255), 1)\n",
    "   \n",
    "    hsv = cv2.cvtColor(frame, cv2.COLOR_BGR2HSV) \n",
    "    # define range of red color in HSV \n",
    "    lower_red = np.array([30,150,50]) \n",
    "    upper_red = np.array([255,255,180]) \n",
    "    \n",
    "    # create a red HSV colour boundary and  \n",
    "    # threshold HSV image \n",
    "    mask = cv2.inRange(hsv, lower_red, upper_red) \n",
    "  \n",
    "    # Bitwise-AND mask and original image \n",
    "    res = cv2.bitwise_and(frame,frame, mask= mask) \n",
    "    # Coordinates of the ROI\n",
    "    x1 = int(0.5*frame.shape[1])\n",
    "    y1 = 10\n",
    "    x2 = frame.shape[1]-10\n",
    "    y2 = int(0.5*frame.shape[1])\n",
    "    # Drawing the ROI\n",
    "    # The increment/decrement by 1 is to compensate for the bounding box\n",
    "    cv2.rectangle(frame, (x1-1, y1-1), (x2+1, y2+1), (255,0,0) ,1)\n",
    "    # Extracting the ROI\n",
    "    roi = frame[y1:y2, x1:x2]\n",
    "    roi = cv2.resize(roi, (64,64))\n",
    "  \n",
    "    # Display an original image \n",
    "    cv2.imshow('Original',frame) \n",
    "  \n",
    "    # finds edges in the input image image and \n",
    "    # marks them in the output map edges \n",
    "    edges = cv2.Canny(roi,100,200)\n",
    "     # Display edges in a frame \n",
    "    cv2.imshow('Edges',edges) \n",
    "    \n",
    "    interrupt = cv2.waitKey(10)\n",
    "    if interrupt & 0xFF == 27: # esc key\n",
    "        break\n",
    "    if interrupt & 0xFF == ord('a'):\n",
    "        cv2.imwrite(directory+'a/'+str(count['A'])+'.jpg', edges)\n",
    "    if interrupt & 0xFF == ord('b'):\n",
    "        cv2.imwrite(directory+'b/'+str(count['B'])+'.jpg', edges)\n",
    "    if interrupt & 0xFF == ord('c'):\n",
    "        cv2.imwrite(directory+'c/'+str(count['C'])+'.jpg', edges)\n",
    "    if interrupt & 0xFF == ord('d'):\n",
    "        cv2.imwrite(directory+'d/'+str(count['D'])+'.jpg', edges)\n",
    "    if interrupt & 0xFF == ord('e'):\n",
    "        cv2.imwrite(directory+'e/'+str(count['E'])+'.jpg', edges)\n",
    "    if interrupt & 0xFF == ord('f'):\n",
    "        cv2.imwrite(directory+'f/'+str(count['F'])+'.jpg', edges)\n",
    "    if interrupt & 0xFF == ord('g'):\n",
    "        cv2.imwrite(directory+'g/'+str(count['G'])+'.jpg', edges)\n",
    "    if interrupt & 0xFF == ord('h'):\n",
    "        cv2.imwrite(directory+'h/'+str(count['H'])+'.jpg', edges)\n",
    "    if interrupt & 0xFF == ord('i'):\n",
    "        cv2.imwrite(directory+'i/'+str(count['I'])+'.jpg', edges)\n",
    "    if interrupt & 0xFF == ord('j'):\n",
    "        cv2.imwrite(directory+'j/'+str(count['J'])+'.jpg', edges)\n",
    "    if interrupt & 0xFF == ord('k'):\n",
    "        cv2.imwrite(directory+'k/'+str(count['K'])+'.jpg', edges)\n",
    "    if interrupt & 0xFF == ord('l'):\n",
    "        cv2.imwrite(directory+'l/'+str(count['L'])+'.jpg', edges)\n",
    "    if interrupt & 0xFF == ord('m'):\n",
    "        cv2.imwrite(directory+'m/'+str(count['M'])+'.jpg', edges)\n",
    "    if interrupt & 0xFF == ord('n'):\n",
    "        cv2.imwrite(directory+'n/'+str(count['N'])+'.jpg', edges)\n",
    "    if interrupt & 0xFF == ord('o'):\n",
    "        cv2.imwrite(directory+'o/'+str(count['O'])+'.jpg', edges)\n",
    "    if interrupt & 0xFF == ord('p'):\n",
    "        cv2.imwrite(directory+'p/'+str(count['P'])+'.jpg', edges)\n",
    "    if interrupt & 0xFF == ord('q'):\n",
    "        cv2.imwrite(directory+'q/'+str(count['Q'])+'.jpg', edges)\n",
    "    if interrupt & 0xFF == ord('r'):\n",
    "        cv2.imwrite(directory+'r/'+str(count['R'])+'.jpg', edges)\n",
    "    if interrupt & 0xFF == ord('s'):\n",
    "        cv2.imwrite(directory+'s/'+str(count['S'])+'.jpg', edges)\n",
    "    if interrupt & 0xFF == ord('t'):\n",
    "        cv2.imwrite(directory+'t/'+str(count['T'])+'.jpg', edges)\n",
    "    if interrupt & 0xFF == ord('u'):\n",
    "        cv2.imwrite(directory+'u/'+str(count['U'])+'.jpg', edges)\n",
    "    if interrupt & 0xFF == ord('v'):\n",
    "        cv2.imwrite(directory+'v/'+str(count['V'])+'.jpg', edges)\n",
    "    if interrupt & 0xFF == ord('w'):\n",
    "        cv2.imwrite(directory+'w/'+str(count['W'])+'.jpg', edges)\n",
    "    if interrupt & 0xFF == ord('x'):\n",
    "        cv2.imwrite(directory+'x/'+str(count['X'])+'.jpg', edges)\n",
    "    if interrupt & 0xFF == ord('y'):\n",
    "        cv2.imwrite(directory+'y/'+str(count['Y'])+'.jpg', edges)\n",
    "    if interrupt & 0xFF == ord('z'):\n",
    "        cv2.imwrite(directory+'z/'+str(count['Z'])+'.jpg', edges)\n",
    "    \n",
    "cap.release()\n",
    "cv2.destroyAllWindows()\n",
    "    \n",
    "\n"
   ]
  },
  {
   "cell_type": "code",
   "execution_count": 7,
   "metadata": {},
   "outputs": [],
   "source": [
    "import pandas as pd\n",
    "import cv2 as cv\n",
    "import numpy as np\n",
    "import matplotlib.pyplot as plt\n",
    "import os\n",
    "import seaborn as sns"
   ]
  },
  {
   "cell_type": "code",
   "execution_count": 8,
   "metadata": {},
   "outputs": [],
   "source": [
    "DATASET=\"C:/Users/prati/Downloads/ASL-Recognition-with-Deep-Learning-master/ASL-Recognition-with-Deep-Learning-master/datasets/data1/train/\"\n",
    "TEST_DATASET=\"C:/Users/prati/Downloads/ASL-Recognition-with-Deep-Learning-master/ASL-Recognition-with-Deep-Learning-master/datasets/data1/test/\"\n",
    "CATEGORIES=['a','b','c','d','e','f','g','h','i','j','k','l','m','n','o','p','q','r','s','t','u','v','w','x','y','z']"
   ]
  },
  {
   "cell_type": "code",
   "execution_count": 9,
   "metadata": {},
   "outputs": [],
   "source": [
    "train_data=[]\n",
    "\n",
    "for category in CATEGORIES:\n",
    "    \n",
    "        #each cateogry into unique integer\n",
    "        label=CATEGORIES.index(category)\n",
    "        path=os.path.join(DATASET,category)\n",
    "        \n",
    "        for img_file in os.listdir(path):\n",
    "            \n",
    "            img=cv.imread(os.path.join(path,img_file),0)\n",
    "            #dst = cv.fastNlMeansDenoisingColored(img,None,5,10,7,21)            \n",
    "            train_data.append([img,label])"
   ]
  },
  {
   "cell_type": "code",
   "execution_count": 10,
   "metadata": {},
   "outputs": [],
   "source": [
    "test_data=[]\n",
    "\n",
    "for category in CATEGORIES:\n",
    "       \n",
    "        #each cateogry into unique integer\n",
    "        label=CATEGORIES.index(category)\n",
    "        path=os.path.join(TEST_DATASET,category)\n",
    "        \n",
    "        for img_file in os.listdir(path):\n",
    "            \n",
    "            img=cv.imread(os.path.join(path,img_file),0)\n",
    "            test_data.append([img,label])"
   ]
  },
  {
   "cell_type": "code",
   "execution_count": 11,
   "metadata": {},
   "outputs": [
    {
     "name": "stdout",
     "output_type": "stream",
     "text": [
      "2636\n",
      "617\n"
     ]
    }
   ],
   "source": [
    "print(len(train_data))\n",
    "print(len(test_data))"
   ]
  },
  {
   "cell_type": "code",
   "execution_count": 12,
   "metadata": {},
   "outputs": [],
   "source": [
    "import random\n",
    "\n",
    "random.shuffle(train_data)\n",
    "random.shuffle(test_data)"
   ]
  },
  {
   "cell_type": "code",
   "execution_count": 13,
   "metadata": {},
   "outputs": [
    {
     "name": "stdout",
     "output_type": "stream",
     "text": [
      "16\n",
      "24\n",
      "20\n",
      "16\n",
      "2\n",
      "7\n",
      "14\n",
      "19\n",
      "18\n",
      "11\n"
     ]
    }
   ],
   "source": [
    "for lbl in train_data[:10]:\n",
    "    print(lbl[1])"
   ]
  },
  {
   "cell_type": "code",
   "execution_count": 14,
   "metadata": {},
   "outputs": [
    {
     "data": {
      "text/plain": [
       "(2636, 2636)"
      ]
     },
     "execution_count": 14,
     "metadata": {},
     "output_type": "execute_result"
    }
   ],
   "source": [
    "train_X=[]\n",
    "train_y=[]\n",
    "\n",
    "for features,label in train_data:\n",
    "    train_X.append(features)\n",
    "    train_y.append(label)\n",
    "\n",
    "len(train_X),len(train_y)"
   ]
  },
  {
   "cell_type": "code",
   "execution_count": 15,
   "metadata": {},
   "outputs": [
    {
     "data": {
      "text/plain": [
       "(617, 617)"
      ]
     },
     "execution_count": 15,
     "metadata": {},
     "output_type": "execute_result"
    }
   ],
   "source": [
    "test_X=[]\n",
    "test_y=[]\n",
    "\n",
    "for features,label in test_data:\n",
    "    test_X.append(features)\n",
    "    test_y.append(label)\n",
    "\n",
    "len(test_X),len(test_y)"
   ]
  },
  {
   "cell_type": "code",
   "execution_count": 16,
   "metadata": {},
   "outputs": [
    {
     "data": {
      "text/plain": [
       "(2636, 64, 64, 1)"
      ]
     },
     "execution_count": 16,
     "metadata": {},
     "output_type": "execute_result"
    }
   ],
   "source": [
    "train_X=np.array(train_X).reshape(-1,64,64,1)\n",
    "train_X=train_X/255.0\n",
    "train_X.shape"
   ]
  },
  {
   "cell_type": "code",
   "execution_count": 17,
   "metadata": {},
   "outputs": [
    {
     "data": {
      "text/plain": [
       "(617, 64, 64, 1)"
      ]
     },
     "execution_count": 17,
     "metadata": {},
     "output_type": "execute_result"
    }
   ],
   "source": [
    "test_X=np.array(test_X).reshape(-1,64,64,1)\n",
    "test_X=test_X/255.0\n",
    "test_X.shape"
   ]
  },
  {
   "cell_type": "code",
   "execution_count": 18,
   "metadata": {},
   "outputs": [
    {
     "data": {
      "text/plain": [
       "<matplotlib.axes._subplots.AxesSubplot at 0x1ef7beb9f40>"
      ]
     },
     "execution_count": 18,
     "metadata": {},
     "output_type": "execute_result"
    },
    {
     "data": {
      "image/png": "[encoded data removed]",
      "text/plain": [
       "<Figure size 432x288 with 1 Axes>"
      ]
     },
     "metadata": {
      "needs_background": "light"
     },
     "output_type": "display_data"
    }
   ],
   "source": [
    "sns.countplot(train_y,palette='Set3')\n",
    "#we can see each categroy has equal data"
   ]
  },
  {
   "cell_type": "code",
   "execution_count": 19,
   "metadata": {},
   "outputs": [
    {
     "data": {
      "text/plain": [
       "array([[0., 0., 0., ..., 0., 0., 0.],\n",
       "       [0., 0., 0., ..., 0., 1., 0.],\n",
       "       [0., 0., 0., ..., 0., 0., 0.],\n",
       "       ...,\n",
       "       [0., 0., 1., ..., 0., 0., 0.],\n",
       "       [0., 0., 0., ..., 0., 0., 0.],\n",
       "       [0., 0., 0., ..., 0., 0., 0.]], dtype=float32)"
      ]
     },
     "execution_count": 19,
     "metadata": {},
     "output_type": "execute_result"
    }
   ],
   "source": [
    "from keras.utils import to_categorical\n",
    "#train y\n",
    "one_hot_train=to_categorical(train_y)\n",
    "one_hot_train"
   ]
  },
  {
   "cell_type": "code",
   "execution_count": 20,
   "metadata": {},
   "outputs": [
    {
     "data": {
      "text/plain": [
       "array([[0., 0., 0., ..., 0., 0., 0.],\n",
       "       [0., 0., 0., ..., 0., 1., 0.],\n",
       "       [0., 0., 0., ..., 0., 0., 0.],\n",
       "       ...,\n",
       "       [0., 0., 0., ..., 0., 0., 0.],\n",
       "       [0., 1., 0., ..., 0., 0., 0.],\n",
       "       [0., 0., 0., ..., 0., 0., 0.]], dtype=float32)"
      ]
     },
     "execution_count": 20,
     "metadata": {},
     "output_type": "execute_result"
    }
   ],
   "source": [
    "one_hot_test=to_categorical(test_y)\n",
    "one_hot_test"
   ]
  },
  {
   "cell_type": "code",
   "execution_count": 21,
   "metadata": {},
   "outputs": [],
   "source": [
    "from tensorflow.keras.models import Sequential\n",
    "from tensorflow.keras.layers import Conv2D,Dense,Flatten,MaxPooling2D,Dropout,Activation\n"
   ]
  },
  {
   "cell_type": "code",
   "execution_count": 22,
   "metadata": {},
   "outputs": [
    {
     "name": "stdout",
     "output_type": "stream",
     "text": [
      "Model: \"sequential\"\n",
      "_________________________________________________________________\n",
      "Layer (type)                 Output Shape              Param #   \n",
      "=================================================================\n",
      "conv2d (Conv2D)              (None, 62, 62, 64)        640       \n",
      "_________________________________________________________________\n",
      "max_pooling2d (MaxPooling2D) (None, 31, 31, 64)        0         \n",
      "_________________________________________________________________\n",
      "conv2d_1 (Conv2D)            (None, 29, 29, 64)        36928     \n",
      "_________________________________________________________________\n",
      "max_pooling2d_1 (MaxPooling2 (None, 14, 14, 64)        0         \n",
      "_________________________________________________________________\n",
      "conv2d_2 (Conv2D)            (None, 12, 12, 64)        36928     \n",
      "_________________________________________________________________\n",
      "max_pooling2d_2 (MaxPooling2 (None, 6, 6, 64)          0         \n",
      "_________________________________________________________________\n",
      "flatten (Flatten)            (None, 2304)              0         \n",
      "_________________________________________________________________\n",
      "dense (Dense)                (None, 128)               295040    \n",
      "_________________________________________________________________\n",
      "dropout (Dropout)            (None, 128)               0         \n",
      "_________________________________________________________________\n",
      "dense_1 (Dense)              (None, 26)                3354      \n",
      "=================================================================\n",
      "Total params: 372,890\n",
      "Trainable params: 372,890\n",
      "Non-trainable params: 0\n",
      "_________________________________________________________________\n"
     ]
    }
   ],
   "source": [
    "model=Sequential()\n",
    "\n",
    "model.add(Conv2D(64,(3,3),activation='relu',input_shape=(64,64,1)))\n",
    "model.add(MaxPooling2D(pool_size=(2,2)))\n",
    "\n",
    "model.add(Conv2D(64,(3,3),activation='relu'))\n",
    "model.add(MaxPooling2D(pool_size=(2,2)))\n",
    "\n",
    "\n",
    "model.add(Conv2D(64,(3,3),activation='relu'))\n",
    "model.add(MaxPooling2D(pool_size=(2,2)))\n",
    "\n",
    "\n",
    "model.add(Flatten())\n",
    "\n",
    "model.add(Dense(128,activation='relu'))\n",
    "model.add(Dropout(0.20))\n",
    "          \n",
    "model.add(Dense(26,activation='softmax'))\n",
    "\n",
    "model.summary()"
   ]
  },
  {
   "cell_type": "code",
   "execution_count": 23,
   "metadata": {},
   "outputs": [],
   "source": [
    "model.compile(optimizer='adam',loss='categorical_crossentropy',metrics=['accuracy'])"
   ]
  },
  {
   "cell_type": "code",
   "execution_count": 24,
   "metadata": {},
   "outputs": [
    {
     "name": "stdout",
     "output_type": "stream",
     "text": [
      "Epoch 1/50\n",
      "422/422 [==============================] - 21s 51ms/step - loss: 1.9592 - accuracy: 0.4388 - val_loss: 0.6341 - val_accuracy: 0.8182\n",
      "Epoch 2/50\n",
      "422/422 [==============================] - 21s 50ms/step - loss: 0.5530 - accuracy: 0.8325 - val_loss: 0.2863 - val_accuracy: 0.9261\n",
      "Epoch 3/50\n",
      "422/422 [==============================] - 21s 50ms/step - loss: 0.2335 - accuracy: 0.9260 - val_loss: 0.2852 - val_accuracy: 0.9299\n",
      "Epoch 4/50\n",
      "422/422 [==============================] - 21s 50ms/step - loss: 0.1590 - accuracy: 0.9464 - val_loss: 0.1831 - val_accuracy: 0.9545\n",
      "Epoch 5/50\n",
      "422/422 [==============================] - 21s 50ms/step - loss: 0.0754 - accuracy: 0.9758 - val_loss: 0.2214 - val_accuracy: 0.9432\n",
      "Epoch 6/50\n",
      "422/422 [==============================] - 23s 54ms/step - loss: 0.0910 - accuracy: 0.9730 - val_loss: 0.1923 - val_accuracy: 0.9489\n",
      "Epoch 7/50\n",
      "422/422 [==============================] - 22s 51ms/step - loss: 0.1090 - accuracy: 0.9663 - val_loss: 0.1884 - val_accuracy: 0.9602\n",
      "Epoch 8/50\n",
      "422/422 [==============================] - 21s 50ms/step - loss: 0.0786 - accuracy: 0.9734 - val_loss: 0.2190 - val_accuracy: 0.9413\n",
      "Epoch 9/50\n",
      "422/422 [==============================] - 21s 50ms/step - loss: 0.0335 - accuracy: 0.9915 - val_loss: 0.1801 - val_accuracy: 0.9545\n",
      "Epoch 10/50\n",
      "422/422 [==============================] - 21s 50ms/step - loss: 0.0717 - accuracy: 0.9815 - val_loss: 0.1838 - val_accuracy: 0.9602\n",
      "Epoch 11/50\n",
      "422/422 [==============================] - 22s 51ms/step - loss: 0.0377 - accuracy: 0.9886 - val_loss: 0.2486 - val_accuracy: 0.9375\n",
      "Epoch 12/50\n",
      "422/422 [==============================] - 23s 55ms/step - loss: 0.0499 - accuracy: 0.9858 - val_loss: 0.1847 - val_accuracy: 0.9621\n",
      "Epoch 13/50\n",
      "422/422 [==============================] - 25s 58ms/step - loss: 0.0340 - accuracy: 0.9915 - val_loss: 0.3112 - val_accuracy: 0.9299\n",
      "Epoch 14/50\n",
      "422/422 [==============================] - 22s 53ms/step - loss: 0.0255 - accuracy: 0.9905 - val_loss: 0.3158 - val_accuracy: 0.9470\n",
      "Epoch 15/50\n",
      "422/422 [==============================] - 22s 53ms/step - loss: 0.0508 - accuracy: 0.9839 - val_loss: 0.3467 - val_accuracy: 0.9337\n",
      "Epoch 16/50\n",
      "422/422 [==============================] - 22s 53ms/step - loss: 0.0590 - accuracy: 0.9829 - val_loss: 0.2477 - val_accuracy: 0.9375\n",
      "Epoch 17/50\n",
      "422/422 [==============================] - 23s 54ms/step - loss: 0.0259 - accuracy: 0.9924 - val_loss: 0.1775 - val_accuracy: 0.9697\n",
      "Epoch 18/50\n",
      "422/422 [==============================] - 21s 50ms/step - loss: 0.0203 - accuracy: 0.9934 - val_loss: 0.3370 - val_accuracy: 0.9470\n",
      "Epoch 19/50\n",
      "422/422 [==============================] - 21s 50ms/step - loss: 0.0362 - accuracy: 0.9877 - val_loss: 0.2949 - val_accuracy: 0.9432\n",
      "Epoch 20/50\n",
      "422/422 [==============================] - 21s 50ms/step - loss: 0.0362 - accuracy: 0.9872 - val_loss: 0.1902 - val_accuracy: 0.9697\n",
      "Epoch 21/50\n",
      "422/422 [==============================] - 21s 50ms/step - loss: 0.0182 - accuracy: 0.9943 - val_loss: 0.3176 - val_accuracy: 0.9375\n",
      "Epoch 22/50\n",
      "422/422 [==============================] - 21s 50ms/step - loss: 0.0317 - accuracy: 0.9919 - val_loss: 0.2100 - val_accuracy: 0.9545\n",
      "Epoch 23/50\n",
      "422/422 [==============================] - 21s 51ms/step - loss: 0.0208 - accuracy: 0.9934 - val_loss: 0.2058 - val_accuracy: 0.9527\n",
      "Epoch 24/50\n",
      "422/422 [==============================] - 26s 61ms/step - loss: 0.0397 - accuracy: 0.9891 - val_loss: 0.1955 - val_accuracy: 0.9583\n",
      "Epoch 25/50\n",
      "422/422 [==============================] - 24s 57ms/step - loss: 0.0125 - accuracy: 0.9972 - val_loss: 0.2153 - val_accuracy: 0.9659\n",
      "Epoch 26/50\n",
      "422/422 [==============================] - 25s 58ms/step - loss: 0.0035 - accuracy: 0.9991 - val_loss: 0.2730 - val_accuracy: 0.9621\n",
      "Epoch 27/50\n",
      "422/422 [==============================] - 25s 58ms/step - loss: 0.0408 - accuracy: 0.9862 - val_loss: 0.2551 - val_accuracy: 0.9621\n",
      "Epoch 28/50\n",
      "422/422 [==============================] - 22s 52ms/step - loss: 0.0332 - accuracy: 0.9891 - val_loss: 0.2080 - val_accuracy: 0.9640\n",
      "Epoch 29/50\n",
      "422/422 [==============================] - 23s 53ms/step - loss: 0.0079 - accuracy: 0.9972 - val_loss: 0.2215 - val_accuracy: 0.9697\n",
      "Epoch 30/50\n",
      "422/422 [==============================] - 22s 51ms/step - loss: 0.0150 - accuracy: 0.9957 - val_loss: 0.3446 - val_accuracy: 0.9621\n",
      "Epoch 31/50\n",
      "422/422 [==============================] - 22s 51ms/step - loss: 0.0331 - accuracy: 0.9896 - val_loss: 0.2808 - val_accuracy: 0.9583\n",
      "Epoch 32/50\n",
      "422/422 [==============================] - 22s 51ms/step - loss: 0.0269 - accuracy: 0.9905 - val_loss: 0.3001 - val_accuracy: 0.9489\n",
      "Epoch 33/50\n",
      "422/422 [==============================] - 22s 51ms/step - loss: 0.0234 - accuracy: 0.9915 - val_loss: 0.2778 - val_accuracy: 0.9508\n",
      "Epoch 34/50\n",
      "422/422 [==============================] - 22s 51ms/step - loss: 0.0168 - accuracy: 0.9957 - val_loss: 0.2438 - val_accuracy: 0.9621\n",
      "Epoch 35/50\n",
      "422/422 [==============================] - 22s 52ms/step - loss: 0.0162 - accuracy: 0.9938 - val_loss: 0.3072 - val_accuracy: 0.9564\n",
      "Epoch 36/50\n",
      "422/422 [==============================] - 23s 54ms/step - loss: 0.0191 - accuracy: 0.9943 - val_loss: 0.3030 - val_accuracy: 0.9583\n",
      "Epoch 37/50\n",
      "422/422 [==============================] - 22s 51ms/step - loss: 0.0104 - accuracy: 0.9957 - val_loss: 0.2103 - val_accuracy: 0.9697\n",
      "Epoch 38/50\n",
      "422/422 [==============================] - 21s 51ms/step - loss: 0.0127 - accuracy: 0.9948 - val_loss: 0.3359 - val_accuracy: 0.9451\n",
      "Epoch 39/50\n",
      "422/422 [==============================] - 21s 51ms/step - loss: 0.0117 - accuracy: 0.9957 - val_loss: 0.3140 - val_accuracy: 0.9527\n",
      "Epoch 40/50\n",
      "422/422 [==============================] - 21s 51ms/step - loss: 0.0114 - accuracy: 0.9962 - val_loss: 0.2553 - val_accuracy: 0.9583\n",
      "Epoch 41/50\n",
      "422/422 [==============================] - 21s 51ms/step - loss: 0.0293 - accuracy: 0.9924 - val_loss: 0.2709 - val_accuracy: 0.9564\n",
      "Epoch 42/50\n",
      "422/422 [==============================] - 21s 50ms/step - loss: 0.0043 - accuracy: 0.9976 - val_loss: 0.3312 - val_accuracy: 0.9527\n",
      "Epoch 43/50\n",
      "422/422 [==============================] - 22s 52ms/step - loss: 0.0281 - accuracy: 0.9919 - val_loss: 0.4203 - val_accuracy: 0.9527\n",
      "Epoch 44/50\n",
      "422/422 [==============================] - 21s 50ms/step - loss: 0.0378 - accuracy: 0.9900 - val_loss: 0.1987 - val_accuracy: 0.9602\n",
      "Epoch 45/50\n",
      "422/422 [==============================] - 21s 50ms/step - loss: 0.0024 - accuracy: 0.9995 - val_loss: 0.2101 - val_accuracy: 0.9678\n",
      "Epoch 46/50\n",
      "422/422 [==============================] - 21s 50ms/step - loss: 0.0089 - accuracy: 0.9967 - val_loss: 0.2513 - val_accuracy: 0.9583\n",
      "Epoch 47/50\n",
      "422/422 [==============================] - 21s 50ms/step - loss: 0.0139 - accuracy: 0.9953 - val_loss: 0.1984 - val_accuracy: 0.9640\n",
      "Epoch 48/50\n",
      "422/422 [==============================] - 21s 51ms/step - loss: 0.0075 - accuracy: 0.9976 - val_loss: 0.2913 - val_accuracy: 0.9545\n",
      "Epoch 49/50\n",
      "422/422 [==============================] - 21s 50ms/step - loss: 0.0041 - accuracy: 0.9991 - val_loss: 0.2202 - val_accuracy: 0.9640\n",
      "Epoch 50/50\n",
      "422/422 [==============================] - 22s 52ms/step - loss: 0.0048 - accuracy: 0.9995 - val_loss: 0.2404 - val_accuracy: 0.9678\n"
     ]
    }
   ],
   "source": [
    "hist=model.fit(train_X,one_hot_train,batch_size=5,epochs=50,validation_split=0.2,shuffle=True)"
   ]
  },
  {
   "cell_type": "code",
   "execution_count": 25,
   "metadata": {},
   "outputs": [
    {
     "data": {
      "image/png": "[encoded data removed]",
      "text/plain": [
       "<Figure size 432x288 with 1 Axes>"
      ]
     },
     "metadata": {
      "needs_background": "light"
     },
     "output_type": "display_data"
    }
   ],
   "source": [
    "plt.plot(hist.history['loss'])\n",
    "plt.plot(hist.history['val_loss'])\n",
    "plt.title('Model Loss')\n",
    "plt.ylabel('Loss')\n",
    "plt.xlabel('Epoch')\n",
    "plt.legend(['train','Validation'],loc='upper left')\n",
    "plt.savefig('graph1.png')\n",
    "plt.show()"
   ]
  },
  {
   "cell_type": "code",
   "execution_count": 26,
   "metadata": {},
   "outputs": [
    {
     "ename": "KeyError",
     "evalue": "'acc'",
     "output_type": "error",
     "traceback": [
      "\u001b[1;31m---------------------------------------------------------------------------\u001b[0m",
      "\u001b[1;31mKeyError\u001b[0m                                  Traceback (most recent call last)",
      "\u001b[1;32m<ipython-input-26-a15be5425039>\u001b[0m in \u001b[0;36m<module>\u001b[1;34m\u001b[0m\n\u001b[1;32m----> 1\u001b[1;33m \u001b[0mplt\u001b[0m\u001b[1;33m.\u001b[0m\u001b[0mplot\u001b[0m\u001b[1;33m(\u001b[0m\u001b[0mhist\u001b[0m\u001b[1;33m.\u001b[0m\u001b[0mhistory\u001b[0m\u001b[1;33m[\u001b[0m\u001b[1;34m'acc'\u001b[0m\u001b[1;33m]\u001b[0m\u001b[1;33m)\u001b[0m\u001b[1;33m\u001b[0m\u001b[1;33m\u001b[0m\u001b[0m\n\u001b[0m\u001b[0;32m      2\u001b[0m \u001b[0mplt\u001b[0m\u001b[1;33m.\u001b[0m\u001b[0mplot\u001b[0m\u001b[1;33m(\u001b[0m\u001b[0mhist\u001b[0m\u001b[1;33m.\u001b[0m\u001b[0mhistory\u001b[0m\u001b[1;33m[\u001b[0m\u001b[1;34m'val_acc'\u001b[0m\u001b[1;33m]\u001b[0m\u001b[1;33m)\u001b[0m\u001b[1;33m\u001b[0m\u001b[1;33m\u001b[0m\u001b[0m\n\u001b[0;32m      3\u001b[0m \u001b[0mplt\u001b[0m\u001b[1;33m.\u001b[0m\u001b[0mtitle\u001b[0m\u001b[1;33m(\u001b[0m\u001b[1;34m'Model Accuracy'\u001b[0m\u001b[1;33m)\u001b[0m\u001b[1;33m\u001b[0m\u001b[1;33m\u001b[0m\u001b[0m\n\u001b[0;32m      4\u001b[0m \u001b[0mplt\u001b[0m\u001b[1;33m.\u001b[0m\u001b[0mylabel\u001b[0m\u001b[1;33m(\u001b[0m\u001b[1;34m'Accuracy'\u001b[0m\u001b[1;33m)\u001b[0m\u001b[1;33m\u001b[0m\u001b[1;33m\u001b[0m\u001b[0m\n\u001b[0;32m      5\u001b[0m \u001b[0mplt\u001b[0m\u001b[1;33m.\u001b[0m\u001b[0mxlabel\u001b[0m\u001b[1;33m(\u001b[0m\u001b[1;34m'Epoch'\u001b[0m\u001b[1;33m)\u001b[0m\u001b[1;33m\u001b[0m\u001b[1;33m\u001b[0m\u001b[0m\n",
      "\u001b[1;31mKeyError\u001b[0m: 'acc'"
     ]
    }
   ],
   "source": [
    "plt.plot(hist.history['acc'])\n",
    "plt.plot(hist.history['val_acc'])\n",
    "plt.title('Model Accuracy')\n",
    "plt.ylabel('Accuracy')\n",
    "plt.xlabel('Epoch')\n",
    "plt.legend(['train','Validation'],loc='upper left')\n",
    "plt.savefig('graph.png')\n",
    "\n",
    "plt.show()\n"
   ]
  },
  {
   "cell_type": "code",
   "execution_count": 27,
   "metadata": {},
   "outputs": [
    {
     "name": "stdout",
     "output_type": "stream",
     "text": [
      "WARNING:tensorflow:From <ipython-input-27-6284176db53b>:1: Sequential.predict_classes (from tensorflow.python.keras.engine.sequential) is deprecated and will be removed after 2021-01-01.\n",
      "Instructions for updating:\n",
      "Please use instead:* `np.argmax(model.predict(x), axis=-1)`,   if your model does multi-class classification   (e.g. if it uses a `softmax` last-layer activation).* `(model.predict(x) > 0.5).astype(\"int32\")`,   if your model does binary classification   (e.g. if it uses a `sigmoid` last-layer activation).\n"
     ]
    },
    {
     "data": {
      "text/plain": [
       "array([ 4, 24, 10,  0,  9, 13, 25, 14,  5,  0, 10, 18, 20,  4,  4, 13, 17,\n",
       "       14, 23, 18, 15, 23, 20,  3, 12, 17,  3, 14, 17,  0,  8,  2,  1, 13,\n",
       "        6, 25,  6, 22, 24, 18, 25,  3, 21,  9, 12, 20,  4,  0, 24, 17, 12,\n",
       "       25, 22, 10, 10,  0,  1,  7,  6,  9,  5,  7, 11, 11, 14,  1, 22, 21,\n",
       "        5,  8, 18, 10, 13, 23,  5,  5, 17, 18, 12, 15,  8,  5, 22,  4, 25,\n",
       "       18, 13, 19, 16, 11, 15,  9, 23, 10, 19,  3, 25, 20, 12, 18, 16,  1,\n",
       "        4, 15,  4, 20,  9, 21, 11,  7, 11, 18, 11, 12, 10, 21, 23, 23, 11,\n",
       "       15,  9, 25,  9, 10, 25, 14, 12, 18, 13, 21, 24, 18,  7, 14,  0,  1,\n",
       "        4, 22, 10, 20, 22, 16,  7,  1,  8,  5, 16, 12, 22,  9, 15, 17, 14,\n",
       "       25,  2,  8,  8,  9, 13,  4,  5, 17,  2, 13, 14, 24, 16, 23,  0, 12,\n",
       "       25, 16, 25,  5, 21, 21, 15, 10,  5, 22, 18,  5,  8,  9, 17,  7, 16,\n",
       "       19, 22, 14, 11, 15, 25,  8,  2, 25,  6,  1, 18,  7, 16, 12, 25,  6,\n",
       "       18, 14,  6, 22, 12,  7, 24, 18, 14, 22,  7,  8, 11, 20, 17, 12,  0,\n",
       "        7, 15, 24,  5, 25, 21, 13, 20, 19, 11, 10, 13, 21, 21,  7, 21, 20,\n",
       "       25, 16, 19,  7,  9, 15, 18, 18, 16,  9, 14, 18,  9, 17, 21, 13, 17,\n",
       "        0, 13, 22,  0,  8, 12,  2,  5, 17, 24, 25, 16, 10,  1, 23,  2,  8,\n",
       "        7, 12,  1,  4,  9, 17,  9, 12, 20, 24,  5,  2, 25, 10, 11,  6, 25,\n",
       "       18,  1, 20, 15, 21, 17, 24, 19, 16,  6, 25, 17, 17, 12, 24, 12, 17,\n",
       "       14,  8, 13, 25,  8, 19, 15, 17,  0, 25, 14, 10, 20, 15,  2,  0, 10,\n",
       "       18,  9, 17,  7, 10, 14, 17,  5, 20, 17,  6,  1, 19,  5, 19, 14, 20,\n",
       "        9,  2,  6, 22,  4, 17, 15,  3, 16,  4,  1,  2,  8,  4,  3,  6, 22,\n",
       "       16, 18, 14, 16,  3, 17,  5,  6, 23,  0,  8, 11, 21, 15,  6, 21, 23,\n",
       "        9,  7, 21,  4, 15, 11,  4,  6, 11, 23, 19, 10,  3, 20, 19, 13, 23,\n",
       "        2, 22, 11, 23,  1, 16, 15, 21, 19,  1,  0, 24,  4,  9, 13,  9, 20,\n",
       "       14, 11, 14, 19, 23,  7, 23,  7, 13,  3, 24, 19, 25, 12, 25, 13, 21,\n",
       "       18,  1, 15, 10, 16, 22, 20,  8, 22,  3, 18, 14,  3, 22, 24, 13, 19,\n",
       "        8,  4, 23,  9, 17, 19,  7,  0, 11, 10, 10, 19, 24, 11,  3,  3, 15,\n",
       "       16,  3,  6, 23, 24, 16, 11, 14,  2, 12, 18, 14, 19, 13, 21,  4,  6,\n",
       "       20,  0, 11,  9, 25, 11,  2, 12, 19, 18, 15, 12,  4,  2,  9, 19, 12,\n",
       "       16, 22, 15, 19, 19, 16, 18, 22,  7, 25, 11,  2, 23, 19,  6, 21,  5,\n",
       "       15, 18, 22, 22,  6, 22,  6,  1, 19, 15, 20,  1,  0, 12,  2, 24, 22,\n",
       "        1, 16, 24,  0, 23, 23, 24, 10,  9,  3, 20, 16, 10, 17,  7,  6, 23,\n",
       "       17,  3,  6, 14, 12,  9, 20, 23, 21,  8,  3,  7,  2, 23,  0, 16, 24,\n",
       "        2,  0, 23, 21,  3,  4, 24, 20, 14, 23,  1,  1, 18, 21, 24,  7,  1,\n",
       "       10, 20,  5, 20,  2, 22, 16, 23,  2, 22,  5, 24, 24, 24, 18, 19, 11,\n",
       "       10,  3,  5, 21,  8, 13, 15, 11, 15, 18, 17, 12, 20, 10, 14,  3, 24,\n",
       "       23,  8, 12,  1,  4], dtype=int64)"
      ]
     },
     "execution_count": 27,
     "metadata": {},
     "output_type": "execute_result"
    }
   ],
   "source": [
    "y_pred=model.predict_classes(test_X)\n",
    "y_pred"
   ]
  },
  {
   "cell_type": "code",
   "execution_count": 28,
   "metadata": {},
   "outputs": [
    {
     "name": "stdout",
     "output_type": "stream",
     "text": [
      "Actual=4, Predicted=4\n",
      "Actual=24, Predicted=24\n",
      "Actual=10, Predicted=10\n",
      "Actual=0, Predicted=0\n",
      "Actual=9, Predicted=9\n",
      "Actual=13, Predicted=13\n",
      "Actual=25, Predicted=25\n",
      "Actual=14, Predicted=14\n",
      "Actual=5, Predicted=5\n",
      "Actual=0, Predicted=0\n"
     ]
    }
   ],
   "source": [
    "for i in range(10):\n",
    "    print(\"Actual=%s, Predicted=%s\" % (test_y[i], y_pred[i]))"
   ]
  },
  {
   "cell_type": "code",
   "execution_count": 29,
   "metadata": {},
   "outputs": [
    {
     "data": {
      "text/plain": [
       "0.9951377633711507"
      ]
     },
     "execution_count": 29,
     "metadata": {},
     "output_type": "execute_result"
    }
   ],
   "source": [
    "from sklearn.metrics import accuracy_score,confusion_matrix\n",
    "accuracy_score(test_y,y_pred)"
   ]
  },
  {
   "cell_type": "code",
   "execution_count": 30,
   "metadata": {},
   "outputs": [
    {
     "data": {
      "text/plain": [
       "array([[20,  0,  0,  0,  0,  0,  0,  0,  0,  0,  0,  0,  0,  0,  0,  0,\n",
       "         0,  0,  0,  0,  0,  0,  0,  0,  0,  0],\n",
       "       [ 0, 22,  0,  0,  0,  0,  0,  0,  0,  0,  0,  0,  0,  0,  0,  0,\n",
       "         0,  0,  0,  0,  0,  0,  0,  0,  0,  0],\n",
       "       [ 0,  0, 20,  0,  0,  0,  0,  0,  0,  0,  0,  0,  0,  0,  0,  0,\n",
       "         0,  0,  0,  0,  0,  0,  0,  0,  0,  0],\n",
       "       [ 0,  0,  0, 20,  0,  0,  0,  0,  0,  0,  0,  0,  0,  0,  0,  0,\n",
       "         0,  0,  0,  0,  0,  0,  0,  0,  0,  0],\n",
       "       [ 0,  0,  0,  0, 21,  0,  0,  0,  0,  0,  0,  0,  0,  0,  0,  0,\n",
       "         0,  0,  0,  0,  0,  0,  0,  0,  0,  0],\n",
       "       [ 0,  0,  0,  0,  0, 21,  0,  0,  0,  0,  0,  0,  0,  0,  0,  0,\n",
       "         0,  0,  0,  0,  0,  0,  0,  0,  0,  0],\n",
       "       [ 0,  0,  0,  0,  0,  0, 21,  0,  0,  0,  0,  0,  0,  0,  0,  0,\n",
       "         0,  0,  0,  0,  0,  0,  0,  0,  0,  0],\n",
       "       [ 0,  0,  0,  0,  0,  0,  0, 21,  0,  0,  0,  0,  0,  0,  0,  0,\n",
       "         0,  0,  0,  0,  0,  0,  0,  0,  0,  0],\n",
       "       [ 0,  0,  0,  0,  0,  0,  0,  0, 20,  0,  0,  0,  0,  0,  0,  0,\n",
       "         0,  0,  0,  0,  0,  0,  0,  0,  0,  0],\n",
       "       [ 0,  0,  0,  0,  0,  0,  0,  0,  0, 25,  0,  0,  0,  0,  0,  0,\n",
       "         0,  0,  0,  0,  0,  0,  0,  0,  0,  0],\n",
       "       [ 0,  0,  0,  0,  0,  0,  0,  0,  0,  0, 25,  0,  0,  0,  0,  0,\n",
       "         0,  0,  0,  0,  0,  0,  0,  0,  0,  0],\n",
       "       [ 0,  0,  0,  0,  0,  0,  0,  0,  0,  0,  0, 24,  0,  0,  0,  0,\n",
       "         0,  0,  0,  0,  0,  0,  0,  0,  0,  0],\n",
       "       [ 0,  0,  0,  0,  0,  0,  0,  0,  0,  0,  0,  0, 25,  0,  0,  0,\n",
       "         0,  0,  0,  0,  0,  0,  0,  0,  0,  0],\n",
       "       [ 0,  0,  0,  0,  0,  0,  0,  0,  0,  0,  0,  0,  0, 20,  0,  0,\n",
       "         0,  1,  0,  0,  0,  0,  0,  0,  0,  0],\n",
       "       [ 0,  0,  0,  0,  0,  0,  0,  0,  0,  0,  0,  0,  0,  0, 25,  0,\n",
       "         0,  0,  0,  0,  0,  0,  0,  0,  0,  0],\n",
       "       [ 0,  0,  0,  0,  0,  0,  0,  0,  0,  0,  0,  0,  0,  0,  0, 25,\n",
       "         0,  0,  0,  0,  0,  0,  0,  0,  0,  0],\n",
       "       [ 0,  0,  0,  0,  0,  0,  0,  0,  0,  0,  0,  0,  0,  0,  0,  0,\n",
       "        25,  0,  0,  0,  0,  0,  0,  0,  0,  0],\n",
       "       [ 0,  0,  0,  0,  0,  0,  0,  0,  0,  0,  0,  0,  0,  0,  0,  0,\n",
       "         0, 26,  0,  0,  0,  0,  0,  0,  0,  0],\n",
       "       [ 0,  0,  0,  0,  0,  0,  0,  0,  0,  0,  0,  0,  0,  0,  0,  0,\n",
       "         0,  0, 29,  0,  0,  0,  0,  0,  0,  0],\n",
       "       [ 0,  0,  0,  0,  0,  0,  0,  0,  0,  0,  0,  0,  1,  0,  0,  0,\n",
       "         0,  0,  0, 25,  0,  0,  0,  0,  0,  0],\n",
       "       [ 0,  0,  0,  0,  0,  0,  0,  0,  0,  0,  0,  0,  0,  0,  0,  0,\n",
       "         0,  0,  0,  0, 25,  0,  0,  0,  0,  0],\n",
       "       [ 0,  0,  0,  0,  0,  0,  0,  0,  0,  0,  0,  0,  0,  0,  0,  0,\n",
       "         0,  0,  0,  0,  0, 24,  0,  0,  0,  0],\n",
       "       [ 0,  0,  0,  0,  0,  0,  0,  0,  0,  0,  0,  0,  0,  0,  0,  0,\n",
       "         0,  0,  0,  0,  0,  0, 26,  0,  0,  0],\n",
       "       [ 0,  0,  0,  0,  0,  0,  0,  0,  0,  0,  0,  0,  0,  0,  0,  0,\n",
       "         0,  0,  0,  0,  0,  0,  0, 27,  0,  0],\n",
       "       [ 0,  0,  0,  0,  0,  0,  0,  0,  0,  0,  0,  0,  0,  0,  0,  0,\n",
       "         0,  0,  0,  0,  0,  0,  0,  0, 26,  0],\n",
       "       [ 0,  0,  0,  0,  0,  0,  0,  1,  0,  0,  0,  0,  0,  0,  0,  0,\n",
       "         0,  0,  0,  0,  0,  0,  0,  0,  0, 26]], dtype=int64)"
      ]
     },
     "execution_count": 30,
     "metadata": {},
     "output_type": "execute_result"
    }
   ],
   "source": [
    "matrix = confusion_matrix (test_y,y_pred)\n",
    "matrix"
   ]
  },
  {
   "cell_type": "code",
   "execution_count": 31,
   "metadata": {},
   "outputs": [
    {
     "data": {
      "image/png": "[encoded data removed]",
      "text/plain": [
       "<Figure size 1080x648 with 1 Axes>"
      ]
     },
     "metadata": {
      "needs_background": "light"
     },
     "output_type": "display_data"
    }
   ],
   "source": [
    "import pandas as pd\n",
    "\n",
    "df_matrix = pd.DataFrame(matrix,index = [i for i in \"ABCDEFGHIJKLMNOPQRSTUVWXYZ\"],\n",
    "                         columns = [i for i in \"ABCDEFGHIJKLMNOPQRSTUVWXYZ\"])\n",
    "plt.figure(figsize = (15,9))\n",
    "sns.heatmap(df_matrix,annot=True,cbar=False)\n",
    "plt.ylabel('True label')\n",
    "plt.xlabel('Predicted label')\n",
    "plt.title('Confusion matrix')\n",
    "plt.savefig('confusion_matrix')"
   ]
  },
  {
   "cell_type": "code",
   "execution_count": 32,
   "metadata": {},
   "outputs": [],
   "source": [
    "from sklearn.metrics import classification_report"
   ]
  },
  {
   "cell_type": "code",
   "execution_count": 33,
   "metadata": {},
   "outputs": [
    {
     "name": "stdout",
     "output_type": "stream",
     "text": [
      "              precision    recall  f1-score   support\n",
      "\n",
      "           0       1.00      1.00      1.00        20\n",
      "           1       1.00      1.00      1.00        22\n",
      "           2       1.00      1.00      1.00        20\n",
      "           3       1.00      1.00      1.00        20\n",
      "           4       1.00      1.00      1.00        21\n",
      "           5       1.00      1.00      1.00        21\n",
      "           6       1.00      1.00      1.00        21\n",
      "           7       1.00      0.95      0.98        22\n",
      "           8       1.00      1.00      1.00        20\n",
      "           9       1.00      1.00      1.00        25\n",
      "          10       1.00      1.00      1.00        25\n",
      "          11       1.00      1.00      1.00        24\n",
      "          12       1.00      0.96      0.98        26\n",
      "          13       0.95      1.00      0.98        20\n",
      "          14       1.00      1.00      1.00        25\n",
      "          15       1.00      1.00      1.00        25\n",
      "          16       1.00      1.00      1.00        25\n",
      "          17       1.00      0.96      0.98        27\n",
      "          18       1.00      1.00      1.00        29\n",
      "          19       0.96      1.00      0.98        25\n",
      "          20       1.00      1.00      1.00        25\n",
      "          21       1.00      1.00      1.00        24\n",
      "          22       1.00      1.00      1.00        26\n",
      "          23       1.00      1.00      1.00        27\n",
      "          24       1.00      1.00      1.00        26\n",
      "          25       0.96      1.00      0.98        26\n",
      "\n",
      "    accuracy                           1.00       617\n",
      "   macro avg       1.00      1.00      1.00       617\n",
      "weighted avg       1.00      1.00      1.00       617\n",
      "\n"
     ]
    }
   ],
   "source": [
    "print(classification_report(y_pred,test_y))"
   ]
  },
  {
   "cell_type": "code",
   "execution_count": 34,
   "metadata": {},
   "outputs": [],
   "source": [
    "model.save('C:/Users/prati/Downloads/ASL-Recognition-with-Deep-Learning-master/ASL-Recognition-with-Deep-Learning-master/datasets/data1/model-bw.h5')"
   ]
  },
  {
   "cell_type": "code",
   "execution_count": 35,
   "metadata": {},
   "outputs": [],
   "source": [
    "import numpy as np\n",
    "import operator\n",
    "import cv2\n",
    "import sys, os\n",
    "import keras\n",
    "\n",
    "from keras.models import load_model\n",
    "import tensorflow as tf \n",
    "classifierLoad = tf.keras.models.load_model('C:/Users/prati/Downloads/ASL-Recognition-with-Deep-Learning-master/ASL-Recognition-with-Deep-Learning-master/datasets/data1/model-bw.h5')\n"
   ]
  },
  {
   "cell_type": "code",
   "execution_count": 36,
   "metadata": {},
   "outputs": [],
   "source": [
    "cap = cv2.VideoCapture(0)\n",
    "_, frame = cap.read()\n",
    "\n",
    "# Category dictionary\n",
    "categories = {0: 'A',\n",
    "              1: 'B',\n",
    "              2: 'C',\n",
    "              3: 'D',\n",
    "              4: 'E',\n",
    "              5: 'F',\n",
    "              6: 'G',\n",
    "              7: 'H',\n",
    "              8: 'I',\n",
    "              9: 'J',\n",
    "              10:'K',\n",
    "              11:'L',\n",
    "              12:'M',\n",
    "              13:'N',\n",
    "              14:'O',\n",
    "              15:'P',\n",
    "              16:'Q',\n",
    "              17:'R',\n",
    "              18:'S',\n",
    "              19:'T',\n",
    "              20:'U',\n",
    "              21:'V',\n",
    "              22:'W',\n",
    "              23:'X',\n",
    "              24:'Y',\n",
    "              25:'Z'}\n",
    "old_text = ''\n",
    "pred_text = ''\n",
    "count_frames = 0\n",
    "total_str = ''\n",
    "flag = False\n"
   ]
  },
  {
   "cell_type": "code",
   "execution_count": 37,
   "metadata": {},
   "outputs": [],
   "source": [
    "while True:\n",
    "    if frame is not None: \n",
    "    # Simulating mirror image\n",
    "        frame = cv2.flip(frame, 1)\n",
    "        hsv = cv2.cvtColor(frame, cv2.COLOR_BGR2HSV) \n",
    "    # define range of red color in HSV \n",
    "        lower_red = np.array([30,150,50]) \n",
    "        upper_red = np.array([255,255,180]) \n",
    "    \n",
    "    # create a red HSV colour boundary and  \n",
    "    # threshold HSV image \n",
    "        mask = cv2.inRange(hsv, lower_red, upper_red) \n",
    "  \n",
    "    # Bitwise-AND mask and original image \n",
    "        res = cv2.bitwise_and(frame,frame, mask= mask) \n",
    "    \n",
    "    # Got this from collect-data.py\n",
    "    # Coordinates of the ROI\n",
    "        x1 = int(0.5*frame.shape[1])\n",
    "        y1 = 10\n",
    "        x2 = frame.shape[1]-10\n",
    "        y2 = int(0.5*frame.shape[1])\n",
    "    # Drawing the ROI\n",
    "    # The increment/decrement by 1 is to compensate for the bounding box\n",
    "        cv2.rectangle(frame, (x1-1, y1-1), (x2+1, y2+1), (255,0,0) ,1)\n",
    "    # Extracting the ROI\n",
    "        roi = frame[y1:y2, x1:x2]\n",
    "        roi = cv2.resize(roi, (64,64)) \n",
    "        test_image = cv2.Canny(roi,100,200) \n",
    "     # Display edges in a frame \n",
    "        cv2.imshow(\"test\",test_image) \n",
    "    \n",
    "    # Resizing the ROI so it can be fed to the model for prediction\n",
    "       \n",
    "    # Batch of 1\n",
    "        result = classifierLoad.predict(test_image.reshape(1,64,64,1))\n",
    "        prediction = {'A': result[0][0], \n",
    "                      'B': result[0][1], \n",
    "                      'C': result[0][2],\n",
    "                      'D': result[0][3],\n",
    "                      'E': result[0][4],\n",
    "                      'F': result[0][5],\n",
    "                      'G': result[0][6], \n",
    "                      'H': result[0][7], \n",
    "                      'I': result[0][8],\n",
    "                      'J': result[0][9],\n",
    "                      'K': result[0][10],\n",
    "                      'L': result[0][11],\n",
    "                      'M': result[0][12], \n",
    "                      'N': result[0][13], \n",
    "                      'O': result[0][14],\n",
    "                      'P': result[0][15],\n",
    "                      'Q': result[0][16],\n",
    "                      'R': result[0][17],\n",
    "                      'S': result[0][18], \n",
    "                      'T': result[0][19], \n",
    "                      'U': result[0][20],\n",
    "                      'V': result[0][21],\n",
    "                      'W': result[0][22],\n",
    "                      'X': result[0][23],\n",
    "                      'Y': result[0][24], \n",
    "                      'Z': result[0][25]} \n",
    "                     \n",
    "    # Sorting based on top prediction\n",
    "        prediction = sorted(prediction.items(), key=operator.itemgetter(1), reverse=True)\n",
    "    \n",
    "    # Displaying the predictions\n",
    "        cv2.putText(frame, prediction[0][0], (10, 120), cv2.FONT_HERSHEY_PLAIN, 1, (0,255,255), 1)    \n",
    "        cv2.imshow(\"Frame\", frame)\n",
    "        blackboard = np.zeros([512,512,3], dtype=np.uint8)\n",
    "        cv2.putText(blackboard, \"Predicted Text :\", (50, 50), cv2.FONT_HERSHEY_TRIPLEX, 1, (255, 255, 0))\n",
    "        if count_frames > 20 and pred_text != \"\":\n",
    "            total_str += pred_text\n",
    "            count_frames = 0\n",
    "            \n",
    "        if flag == True:\n",
    "            old_text = pred_text\n",
    "            pred_text = prediction[0][0]\n",
    "        \n",
    "            if old_text == pred_text:\n",
    "                count_frames += 1\n",
    "            else:\n",
    "                count_frames = 0\n",
    "        cv2.putText(blackboard, total_str, (50, 120), cv2.FONT_HERSHEY_TRIPLEX, 1, (255, 255, 127))\n",
    "        cv2.imshow(\"predicted\",blackboard)\n",
    "    _, frame = cap.read()\n",
    "    keypress=cv2.waitKey(40) \n",
    "    if keypress & 0xFF == ord('c'):\n",
    "        flag = True\n",
    "    if keypress & 0xFF == ord('s'):\n",
    "        flag = False\n",
    "    if keypress & 0xFF == 27: # esc key\n",
    "        break\n",
    "        \n",
    " \n",
    "cap.release()\n",
    "cv2.destroyAllWindows()"
   ]
  },
  {
   "cell_type": "code",
   "execution_count": null,
   "metadata": {},
   "outputs": [],
   "source": [
    "\n"
   ]
  },
  {
   "cell_type": "code",
   "execution_count": null,
   "metadata": {},
   "outputs": [],
   "source": []
  },
  {
   "cell_type": "code",
   "execution_count": null,
   "metadata": {},
   "outputs": [],
   "source": []
  },
  {
   "cell_type": "code",
   "execution_count": null,
   "metadata": {},
   "outputs": [],
   "source": []
  },
  {
   "cell_type": "code",
   "execution_count": null,
   "metadata": {},
   "outputs": [],
   "source": []
  }
 ],
 "metadata": {
  "kernelspec": {
   "display_name": "Python 3",
   "language": "python",
   "name": "python3"
  },
  "language_info": {
   "codemirror_mode": {
    "name": "ipython",
    "version": 3
   },
   "file_extension": ".py",
   "mimetype": "text/x-python",
   "name": "python",
   "nbconvert_exporter": "python",
   "pygments_lexer": "ipython3",
   "version": "3.8.3"
  }
 },
 "nbformat": 4,
 "nbformat_minor": 2
}
