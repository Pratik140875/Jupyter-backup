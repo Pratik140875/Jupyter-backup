{
 "cells": [
  {
   "cell_type": "code",
   "execution_count": 1,
   "metadata": {},
   "outputs": [],
   "source": [
    "class human:\n",
    "    def __init__(self,n,o):\n",
    "        self.name = n\n",
    "        self.occupation = o\n",
    "        \n",
    "    def do_work(self):\n",
    "        if self.occupation == \"actor\":\n",
    "            print(self.name,\"actor\")\n",
    "        elif self.occupation == \"Tennis\":\n",
    "            print(self.name,\"tennis player\")\n",
    "            "
   ]
  },
  {
   "cell_type": "code",
   "execution_count": 5,
   "metadata": {},
   "outputs": [
    {
     "name": "stdout",
     "output_type": "stream",
     "text": [
      "Tom cruise actor\n"
     ]
    }
   ],
   "source": [
    "tom = human(\"Tom cruise\",\"actor\")\n",
    "tom.do_work()"
   ]
  },
  {
   "cell_type": "code",
   "execution_count": null,
   "metadata": {},
   "outputs": [],
   "source": []
  }
 ],
 "metadata": {
  "kernelspec": {
   "display_name": "Python 3",
   "language": "python",
   "name": "python3"
  },
  "language_info": {
   "codemirror_mode": {
    "name": "ipython",
    "version": 3
   },
   "file_extension": ".py",
   "mimetype": "text/x-python",
   "name": "python",
   "nbconvert_exporter": "python",
   "pygments_lexer": "ipython3",
   "version": "3.8.3"
  }
 },
 "nbformat": 4,
 "nbformat_minor": 4
}
