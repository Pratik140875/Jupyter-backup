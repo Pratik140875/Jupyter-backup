{
 "cells": [
  {
   "cell_type": "code",
   "execution_count": 1,
   "metadata": {},
   "outputs": [
    {
     "name": "stdout",
     "output_type": "stream",
     "text": [
      "Hello World\n"
     ]
    }
   ],
   "source": [
    "print(\"Hello World\")"
   ]
  },
  {
   "cell_type": "code",
   "execution_count": 2,
   "metadata": {},
   "outputs": [
    {
     "ename": "NameError",
     "evalue": "name 'prnt' is not defined",
     "output_type": "error",
     "traceback": [
      "\u001b[1;31m---------------------------------------------------------------------------\u001b[0m",
      "\u001b[1;31mNameError\u001b[0m                                 Traceback (most recent call last)",
      "\u001b[1;32m<ipython-input-2-c0f2b44e519d>\u001b[0m in \u001b[0;36m<module>\u001b[1;34m\u001b[0m\n\u001b[0;32m      1\u001b[0m \u001b[0mage\u001b[0m \u001b[1;33m=\u001b[0m\u001b[1;36m35\u001b[0m\u001b[1;33m\u001b[0m\u001b[1;33m\u001b[0m\u001b[0m\n\u001b[0;32m      2\u001b[0m \u001b[0mage\u001b[0m \u001b[1;33m=\u001b[0m \u001b[1;36m25\u001b[0m\u001b[1;33m\u001b[0m\u001b[1;33m\u001b[0m\u001b[0m\n\u001b[1;32m----> 3\u001b[1;33m \u001b[0mprnt\u001b[0m\u001b[1;33m(\u001b[0m\u001b[0mage\u001b[0m\u001b[1;33m)\u001b[0m\u001b[1;33m\u001b[0m\u001b[1;33m\u001b[0m\u001b[0m\n\u001b[0m",
      "\u001b[1;31mNameError\u001b[0m: name 'prnt' is not defined"
     ]
    }
   ],
   "source": [
    "age =35\n",
    "age = 25\n",
    "prnt(age)"
   ]
  },
  {
   "cell_type": "code",
   "execution_count": 3,
   "metadata": {},
   "outputs": [
    {
     "name": "stdout",
     "output_type": "stream",
     "text": [
      "25\n"
     ]
    }
   ],
   "source": [
    "print(age)"
   ]
  },
  {
   "cell_type": "code",
   "execution_count": 4,
   "metadata": {},
   "outputs": [
    {
     "name": "stdout",
     "output_type": "stream",
     "text": [
      "What is your namePratik\n",
      "HiPratik\n"
     ]
    }
   ],
   "source": [
    "name= input(\"What is your name\")\n",
    "print(\"Hi\"+name)"
   ]
  },
  {
   "cell_type": "code",
   "execution_count": 5,
   "metadata": {},
   "outputs": [
    {
     "name": "stdout",
     "output_type": "stream",
     "text": [
      "What is your weight 160\n",
      "72.0\n"
     ]
    }
   ],
   "source": [
    "Weight = int(input(\"What is your weight \"))\n",
    "Weight_kg = Weight*0.45\n",
    "print(Weight_kg)"
   ]
  },
  {
   "cell_type": "code",
   "execution_count": 3,
   "metadata": {},
   "outputs": [
    {
     "name": "stdout",
     "output_type": "stream",
     "text": [
      "Down Payment = $6000.0\n"
     ]
    }
   ],
   "source": [
    "Price = 30000\n",
    "has_good_credit = True\n",
    "Down_payment = 0\n",
    "if has_good_credit:\n",
    "    Down_payment = 0.2 * Price\n",
    "else :\n",
    "    Down_payment = 0.5 * Price\n",
    "print(f\"Down Payment = ${Down_payment}\")\n",
    "      "
   ]
  },
  {
   "cell_type": "code",
   "execution_count": 6,
   "metadata": {},
   "outputs": [
    {
     "name": "stdout",
     "output_type": "stream",
     "text": [
      "What is your weight \n",
      "Weight: 75\n",
      "weight in pounds press l else press k\n",
      "Kilogram (k) or Pounds (L)k\n",
      "120.0 lb\n"
     ]
    }
   ],
   "source": [
    "# Pratik\n",
    "print(\"What is your weight \")\n",
    "weight = int(input(\"Weight: \"))\n",
    "print(\"weight in pounds press l else press k\")\n",
    "Scale = input(\"Kilogram (k) or Pounds (L)\")\n",
    "if Scale.upper() == \"L\":\n",
    "    weight = weight * 0.45\n",
    "    print(f\"{weight} kg\")\n",
    "elif Scale.upper() == \"K\":\n",
    "    weight = weight * 1.6\n",
    "    print(f\"{weight} lb\")\n",
    "else :\n",
    "    print(\"Wrong input\")\n",
    "\n",
    "    "
   ]
  },
  {
   "cell_type": "code",
   "execution_count": 8,
   "metadata": {},
   "outputs": [
    {
     "name": "stdout",
     "output_type": "stream",
     "text": [
      "1\n",
      "2\n",
      "3\n",
      "4\n",
      "5\n",
      "6\n",
      "7\n",
      "8\n",
      "9\n"
     ]
    }
   ],
   "source": [
    "matrix = [\n",
    "    [1,2,3],\n",
    "    [4,5,6],\n",
    "    [7,8,9]\n",
    "]\n",
    "for rows in matrix:\n",
    "    for items in rows:\n",
    "        print(items)"
   ]
  },
  {
   "cell_type": "code",
   "execution_count": 10,
   "metadata": {},
   "outputs": [
    {
     "name": "stdout",
     "output_type": "stream",
     "text": [
      "[1, 3, 7, 5, 9]\n"
     ]
    }
   ],
   "source": [
    "numbers = [1,1,3,3,3,7,7,5,5,9]\n",
    "sole_numbers = []\n",
    "for number in numbers:\n",
    "    if number not in sole_numbers:\n",
    "        sole_numbers.append(number)\n",
    "print(sole_numbers)"
   ]
  },
  {
   "cell_type": "code",
   "execution_count": 24,
   "metadata": {},
   "outputs": [
    {
     "name": "stdout",
     "output_type": "stream",
     "text": [
      "Enter number: 134\n",
      "one three four \n"
     ]
    }
   ],
   "source": [
    "Num = {\n",
    "    \"0\" : \"Zero\",\n",
    "    \"1\" : \"one\",\n",
    "    \"2\" : \"two\",\n",
    "    \"3\" : \"three\",\n",
    "    \"4\" : \"four\",\n",
    "    \"5\" : \"five\",\n",
    "    \"6\" : \"six\",\n",
    "    \"7\" : \"seven\",\n",
    "    \"8\" : \" eight\",\n",
    "    \"9\" : \" nine\"\n",
    "}\n",
    "i = input(\"Enter number: \")\n",
    "output = \"\"\n",
    "for j in i:\n",
    "    output +=  Num.get(j,\"...\") + \" \"\n",
    "print(output)\n",
    "    "
   ]
  },
  {
   "cell_type": "code",
   "execution_count": 25,
   "metadata": {},
   "outputs": [
    {
     "name": "stdout",
     "output_type": "stream",
     "text": [
      "*\n",
      "**\n",
      "***\n",
      "****\n",
      "*****\n",
      "******\n",
      "*******\n",
      "********\n",
      "*********\n",
      "done\n"
     ]
    }
   ],
   "source": [
    "i=1\n",
    "while i<10:\n",
    "    print(\"*\"*i)\n",
    "    i+=1\n",
    "print(\"done\")"
   ]
  },
  {
   "cell_type": "code",
   "execution_count": 27,
   "metadata": {},
   "outputs": [
    {
     "name": "stdout",
     "output_type": "stream",
     "text": [
      "265\n"
     ]
    }
   ],
   "source": [
    "sum = 0\n",
    "prices = [40,50,75,100]\n",
    "for iten in prices:\n",
    "    sum = sum + iten\n",
    "print(sum)"
   ]
  },
  {
   "cell_type": "code",
   "execution_count": 28,
   "metadata": {},
   "outputs": [
    {
     "name": "stdout",
     "output_type": "stream",
     "text": [
      "2\n",
      "7\n",
      "12\n",
      "17\n",
      "22\n",
      "27\n",
      "32\n",
      "37\n",
      "42\n",
      "47\n",
      "52\n",
      "57\n",
      "62\n",
      "67\n",
      "72\n",
      "77\n",
      "82\n",
      "87\n",
      "92\n",
      "97\n"
     ]
    }
   ],
   "source": [
    "for i in range(2,100,5):\n",
    "    print(i)"
   ]
  },
  {
   "cell_type": "code",
   "execution_count": 34,
   "metadata": {},
   "outputs": [
    {
     "name": "stdout",
     "output_type": "stream",
     "text": [
      "XXXXXX\n",
      "XX\n",
      "XXXXXX\n",
      "XX\n",
      "XXXXXX\n"
     ]
    }
   ],
   "source": [
    "num = [6,2,6,2,6]\n",
    "for item in num:\n",
    "    output = \"\"\n",
    "    for i in range(item):\n",
    "        output += \"X\"\n",
    "    print(output)"
   ]
  },
  {
   "cell_type": "code",
   "execution_count": 37,
   "metadata": {},
   "outputs": [
    {
     "name": "stdout",
     "output_type": "stream",
     "text": [
      "Hangman\n",
      "Guess the continent\n",
      "Enter your guess: north america\n",
      "Guesses left : 4\n",
      "Enter next guess\n",
      "Enter your guess: south america\n",
      "Guesses left : 3\n",
      "Enter next guess\n",
      "Enter your guess: asia\n",
      "Guesses left : 2\n",
      "You won the game\n"
     ]
    }
   ],
   "source": [
    "print(\"Hangman\")\n",
    "print(\"Guess the continent\")\n",
    "import random\n",
    "continent = (\"North America\",\"South America\",\"Europe\",\"Asia\",\"Australia\",\"Africa\",\"Antartica\")\n",
    "Secret_Word = random.choice(continent)\n",
    "Guess_left = 5\n",
    "Losing_no = 0\n",
    "while Guess_left > Losing_no:\n",
    "    guess = input(\"Enter your guess: \").title()\n",
    "    Guess_left -= 1\n",
    "    print(f\"Guesses left : {Guess_left}\")\n",
    "    if guess == Secret_Word:\n",
    "        print(\"You won the game\")\n",
    "        break\n",
    "    elif guess != Secret_Word:\n",
    "        print(\"Enter next guess\")\n",
    "else:\n",
    "    print(\"You lost the game\")\n",
    "    \n",
    "    "
   ]
  },
  {
   "cell_type": "code",
   "execution_count": 39,
   "metadata": {},
   "outputs": [
    {
     "name": "stdout",
     "output_type": "stream",
     "text": [
      "Name : Pratik Shekhawat\n",
      "Age: 25\n",
      "job : Businessman\n"
     ]
    }
   ],
   "source": [
    "def clac_age():\n",
    "    birth_year =  1998\n",
    "    age = 2023-1998\n",
    "    print(f\"Age: {age}\")\n",
    "          \n",
    "print(\"Name : Pratik Shekhawat\")\n",
    "clac_age()\n",
    "print(\"job : Businessman\")"
   ]
  },
  {
   "cell_type": "code",
   "execution_count": 40,
   "metadata": {},
   "outputs": [
    {
     "name": "stdout",
     "output_type": "stream",
     "text": [
      "24\n"
     ]
    }
   ],
   "source": [
    "def calc_age(birth_year):\n",
    "    return 2023 - birth_year\n",
    "\n",
    "age = calc_age(1999)\n",
    "print(age)"
   ]
  },
  {
   "cell_type": "code",
   "execution_count": 43,
   "metadata": {},
   "outputs": [
    {
     "name": "stdout",
     "output_type": "stream",
     "text": [
      "Audi\n"
     ]
    }
   ],
   "source": [
    "class Car:\n",
    "    def brand(self):\n",
    "        print(\"Audi\")\n",
    "        \n",
    "    def color(self):\n",
    "        print(\"white\")\n",
    "        \n",
    "    def engine(self):\n",
    "        print(\"1.5l\")\n",
    "        \n",
    "        \n",
    "car = Car()\n",
    "car.brand()"
   ]
  },
  {
   "cell_type": "code",
   "execution_count": 46,
   "metadata": {},
   "outputs": [
    {
     "name": "stdout",
     "output_type": "stream",
     "text": [
      "bread\n"
     ]
    }
   ],
   "source": [
    "class Dog:\n",
    "    def __init__(self,bread,bark):\n",
    "        self.bread = bread\n",
    "        self.bark = bark\n",
    "        \n",
    "        \n",
    "dog = Dog(\"bread\",\"bark\")\n",
    "print(dog.bread)"
   ]
  },
  {
   "cell_type": "code",
   "execution_count": null,
   "metadata": {},
   "outputs": [],
   "source": []
  },
  {
   "cell_type": "code",
   "execution_count": null,
   "metadata": {},
   "outputs": [],
   "source": []
  }
 ],
 "metadata": {
  "kernelspec": {
   "display_name": "Python 3",
   "language": "python",
   "name": "python3"
  },
  "language_info": {
   "codemirror_mode": {
    "name": "ipython",
    "version": 3
   },
   "file_extension": ".py",
   "mimetype": "text/x-python",
   "name": "python",
   "nbconvert_exporter": "python",
   "pygments_lexer": "ipython3",
   "version": "3.8.3"
  }
 },
 "nbformat": 4,
 "nbformat_minor": 4
}
