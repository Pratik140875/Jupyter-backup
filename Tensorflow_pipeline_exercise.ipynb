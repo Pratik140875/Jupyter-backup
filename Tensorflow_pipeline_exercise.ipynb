{
 "cells": [
  {
   "cell_type": "code",
   "execution_count": 1,
   "metadata": {},
   "outputs": [],
   "source": [
    "import tensorflow as tf"
   ]
  },
  {
   "cell_type": "code",
   "execution_count": 4,
   "metadata": {},
   "outputs": [],
   "source": [
    "reviews_ns = tf.data.Dataset.list_files(\"C:/Users/prati/Downloads/Reviews/*/*\", shuffle = False)"
   ]
  },
  {
   "cell_type": "code",
   "execution_count": 6,
   "metadata": {},
   "outputs": [
    {
     "name": "stdout",
     "output_type": "stream",
     "text": [
      "b'C:\\\\Users\\\\prati\\\\Downloads\\\\Reviews\\\\Negative\\\\neg_1.txt'\n",
      "b'C:\\\\Users\\\\prati\\\\Downloads\\\\Reviews\\\\Negative\\\\neg_2.txt'\n",
      "b'C:\\\\Users\\\\prati\\\\Downloads\\\\Reviews\\\\Negative\\\\neg_3.txt'\n",
      "b'C:\\\\Users\\\\prati\\\\Downloads\\\\Reviews\\\\Positive\\\\pos_1.txt'\n",
      "b'C:\\\\Users\\\\prati\\\\Downloads\\\\Reviews\\\\Positive\\\\pos_2.txt'\n",
      "b'C:\\\\Users\\\\prati\\\\Downloads\\\\Reviews\\\\Positive\\\\pos_3.txt'\n"
     ]
    }
   ],
   "source": [
    "for review in reviews_ns:\n",
    "    print(review.numpy())"
   ]
  },
  {
   "cell_type": "code",
   "execution_count": 8,
   "metadata": {},
   "outputs": [],
   "source": [
    "\n",
    "def extract_label_review(file_path):\n",
    "    import os\n",
    "    return tf.io.read_file(file_path), tf.strings.split(file_path, os.path.sep)[-2] "
   ]
  },
  {
   "cell_type": "code",
   "execution_count": 11,
   "metadata": {},
   "outputs": [
    {
     "name": "stdout",
     "output_type": "stream",
     "text": [
      "Text: b\"Basically there's a family where a little boy (Jak\"\n",
      "label: b'Negative'\n",
      "Text: b'This show was an amazing, fresh & innovative idea '\n",
      "label: b'Negative'\n",
      "Text: b''\n",
      "label: b'Negative'\n",
      "Text: b'One of the other reviewers has mentioned that afte'\n",
      "label: b'Positive'\n",
      "Text: b'A wonderful little production. <br /><br />The fil'\n",
      "label: b'Positive'\n",
      "Text: b''\n",
      "label: b'Positive'\n"
     ]
    }
   ],
   "source": [
    "review_ns_1 = reviews_ns.map(extract_label_review)\n",
    "for text, label in review_ns_1:\n",
    "    print(\"Text:\", text.numpy()[:50])\n",
    "    print(\"label:\", label.numpy())"
   ]
  },
  {
   "cell_type": "code",
   "execution_count": 13,
   "metadata": {},
   "outputs": [
    {
     "name": "stdout",
     "output_type": "stream",
     "text": [
      "Text: b\"Basically there's a family where a little boy (Jak\"\n",
      "label: b'Negative'\n",
      "Text: b'This show was an amazing, fresh & innovative idea '\n",
      "label: b'Negative'\n",
      "Text: b'One of the other reviewers has mentioned that afte'\n",
      "label: b'Positive'\n",
      "Text: b'A wonderful little production. <br /><br />The fil'\n",
      "label: b'Positive'\n"
     ]
    }
   ],
   "source": [
    "review_ns_1 = review_ns_1.filter(lambda review, label: review != \"\")\n",
    "for text, label in review_ns_1:\n",
    "    print(\"Text:\", text.numpy()[:50])\n",
    "    print(\"label:\", label.numpy())"
   ]
  },
  {
   "cell_type": "code",
   "execution_count": null,
   "metadata": {},
   "outputs": [],
   "source": []
  }
 ],
 "metadata": {
  "kernelspec": {
   "display_name": "Python 3",
   "language": "python",
   "name": "python3"
  },
  "language_info": {
   "codemirror_mode": {
    "name": "ipython",
    "version": 3
   },
   "file_extension": ".py",
   "mimetype": "text/x-python",
   "name": "python",
   "nbconvert_exporter": "python",
   "pygments_lexer": "ipython3",
   "version": "3.8.3"
  }
 },
 "nbformat": 4,
 "nbformat_minor": 4
}
