{
 "cells": [
  {
   "cell_type": "code",
   "execution_count": 1,
   "metadata": {},
   "outputs": [],
   "source": [
    "import numpy as np\n",
    "\n",
    "y_test = np.array([1,0,1,1,0])\n",
    "y_predicted = np.array([0.7,0.2,1,0.9,0])"
   ]
  },
  {
   "cell_type": "code",
   "execution_count": 22,
   "metadata": {},
   "outputs": [],
   "source": [
    "def mae(y_test, y_predicted):\n",
    "    total_error = 0\n",
    "    #using ZIP function to process bot arrays parallely\n",
    "    for yt , yp in zip(y_test, y_predicted):\n",
    "        total_error += abs(yt - yp)\n",
    "    print(\"Total Error:\", total_error)\n",
    "    \n",
    "    mae = total_error/len(y_test)\n",
    "    print(\"MAE:\", mae)\n",
    "        \n",
    "    "
   ]
  },
  {
   "cell_type": "code",
   "execution_count": 23,
   "metadata": {},
   "outputs": [
    {
     "name": "stdout",
     "output_type": "stream",
     "text": [
      "Total Error: 0.6\n",
      "MAE: 0.12\n"
     ]
    }
   ],
   "source": [
    "mae(y_test, y_predicted)"
   ]
  },
  {
   "cell_type": "code",
   "execution_count": 24,
   "metadata": {
    "scrolled": true
   },
   "outputs": [
    {
     "name": "stdout",
     "output_type": "stream",
     "text": [
      "MAE: 0.12\n"
     ]
    }
   ],
   "source": [
    "#Short way to calculate MAE using numpy capabilities\n",
    "Total = np.sum(np.abs(y_test - y_predicted))\n",
    "Mean = np.mean(np.abs(y_test - y_predicted))\n",
    "print(\"MAE:\", Mean)"
   ]
  },
  {
   "cell_type": "code",
   "execution_count": 29,
   "metadata": {},
   "outputs": [],
   "source": [
    "#Calculating MSE without numpy\n",
    "def mse(y_test, y_predicted):\n",
    "    total_error = 0\n",
    "    #using ZIP function to process bot arrays parallely\n",
    "    for yt , yp in zip(y_test, y_predicted):\n",
    "        total_error += pow(yt - yp, 2)\n",
    "    print(\"Total Error:\", total_error)\n",
    "    \n",
    "    mse = total_error/len(y_test)\n",
    "    print(\"MSE:\", mse)"
   ]
  },
  {
   "cell_type": "code",
   "execution_count": 30,
   "metadata": {},
   "outputs": [
    {
     "name": "stdout",
     "output_type": "stream",
     "text": [
      "Total Error: 0.14\n",
      "MSE: 0.028000000000000004\n"
     ]
    }
   ],
   "source": [
    "mse(y_test, y_predicted)"
   ]
  },
  {
   "cell_type": "markdown",
   "metadata": {},
   "source": [
    "mse(y_test, y_predicted)"
   ]
  },
  {
   "cell_type": "code",
   "execution_count": 12,
   "metadata": {},
   "outputs": [],
   "source": [
    "#Calculating MSE"
   ]
  },
  {
   "cell_type": "code",
   "execution_count": 13,
   "metadata": {},
   "outputs": [
    {
     "data": {
      "text/plain": [
       "0.028000000000000004"
      ]
     },
     "execution_count": 13,
     "metadata": {},
     "output_type": "execute_result"
    }
   ],
   "source": [
    "np.mean(np.square(y_test-y_predicted))"
   ]
  },
  {
   "cell_type": "code",
   "execution_count": 31,
   "metadata": {},
   "outputs": [],
   "source": [
    "epsilon = 1e-15"
   ]
  },
  {
   "cell_type": "code",
   "execution_count": 32,
   "metadata": {},
   "outputs": [],
   "source": [
    "#Log loss function\n",
    "#log cannot be zero so, replacing value of 0 with s;ightly above zero\n",
    "def log_loss(y_test, y_predicted):\n",
    "    y_predicted_new = [max(i , epsilon) for i in y_predicted] #log cannot be zero\n",
    "    y_predicted_new = [min(i , 1-epsilon) for i in y_predicted_new] #Log cannot be 1\n",
    "    y_predicted_new = np.array(y_predicted_new)\n",
    "    return -np.mean(y_test*np.log(y_predicted_new)+(1-y_test)*np.log(1-y_predicted_new))"
   ]
  },
  {
   "cell_type": "code",
   "execution_count": 33,
   "metadata": {},
   "outputs": [
    {
     "data": {
      "text/plain": [
       "0.13703580218215408"
      ]
     },
     "execution_count": 33,
     "metadata": {},
     "output_type": "execute_result"
    }
   ],
   "source": [
    "log_loss(y_test, y_predicted)"
   ]
  },
  {
   "cell_type": "code",
   "execution_count": null,
   "metadata": {},
   "outputs": [],
   "source": []
  }
 ],
 "metadata": {
  "kernelspec": {
   "display_name": "Python 3",
   "language": "python",
   "name": "python3"
  },
  "language_info": {
   "codemirror_mode": {
    "name": "ipython",
    "version": 3
   },
   "file_extension": ".py",
   "mimetype": "text/x-python",
   "name": "python",
   "nbconvert_exporter": "python",
   "pygments_lexer": "ipython3",
   "version": "3.8.3"
  }
 },
 "nbformat": 4,
 "nbformat_minor": 4
}
